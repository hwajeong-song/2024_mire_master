{
  "cells": [
    {
      "cell_type": "markdown",
      "metadata": {
        "id": "view-in-github",
        "colab_type": "text"
      },
      "source": [
        "<a href=\"https://colab.research.google.com/github/hwajeong-song/2024_mire_master/blob/main/1%EC%9D%BC%EC%B0%A8_%ED%8C%8C%EC%9D%B4%EC%8D%AC%EA%B8%B0%EC%B4%88%EB%8B%A4%EC%A7%80%EA%B8%B0_%EC%8B%A4%EC%8A%B5.ipynb\" target=\"_parent\"><img src=\"https://colab.research.google.com/assets/colab-badge.svg\" alt=\"Open In Colab\"/></a>"
      ]
    },
    {
      "cell_type": "markdown",
      "metadata": {
        "id": "zRxHpy-28GGG"
      },
      "source": [
        "# 1일차-파이썬 기초 다지기"
      ]
    },
    {
      "cell_type": "markdown",
      "metadata": {
        "id": "VRVM91mPB34V"
      },
      "source": [
        "## 1.파이썬 이해하기"
      ]
    },
    {
      "cell_type": "markdown",
      "metadata": {
        "id": "hOwZhukd8GGK"
      },
      "source": [
        "### 파이썬 버전 확인"
      ]
    },
    {
      "cell_type": "code",
      "source": [
        "!python --version\n"
      ],
      "metadata": {
        "id": "WCJ5nbOTB5ZF",
        "colab": {
          "base_uri": "https://localhost:8080/"
        },
        "outputId": "8f1541cd-98a1-4d0a-d5a1-9864d34b6cb0"
      },
      "execution_count": null,
      "outputs": [
        {
          "output_type": "stream",
          "name": "stdout",
          "text": [
            "Python 3.10.12\n"
          ]
        }
      ]
    },
    {
      "cell_type": "code",
      "source": [
        "import sys\n",
        "print(sys.version)\n",
        "sys.version"
      ],
      "metadata": {
        "colab": {
          "base_uri": "https://localhost:8080/",
          "height": 54
        },
        "id": "GjcQjaH1x-aA",
        "outputId": "ca2cd6ad-424a-4776-a3a6-cd04d7c6393c"
      },
      "execution_count": null,
      "outputs": [
        {
          "output_type": "stream",
          "name": "stdout",
          "text": [
            "3.10.12 (main, Sep 11 2024, 15:47:36) [GCC 11.4.0]\n"
          ]
        },
        {
          "output_type": "execute_result",
          "data": {
            "text/plain": [
              "'3.10.12 (main, Sep 11 2024, 15:47:36) [GCC 11.4.0]'"
            ],
            "application/vnd.google.colaboratory.intrinsic+json": {
              "type": "string"
            }
          },
          "metadata": {},
          "execution_count": 2
        }
      ]
    },
    {
      "cell_type": "markdown",
      "metadata": {
        "id": "HAFtSTG28GGL"
      },
      "source": [
        "### 파이썬 설치 위치 확인"
      ]
    },
    {
      "cell_type": "code",
      "execution_count": null,
      "metadata": {
        "id": "46cMOIHW8GGM",
        "colab": {
          "base_uri": "https://localhost:8080/"
        },
        "outputId": "2db13a0d-eb9d-4711-ccc5-398d974c382f"
      },
      "outputs": [
        {
          "output_type": "stream",
          "name": "stdout",
          "text": [
            "/usr/bin/python3\n"
          ]
        },
        {
          "output_type": "execute_result",
          "data": {
            "text/plain": [
              "['/content',\n",
              " '/env/python',\n",
              " '/usr/lib/python310.zip',\n",
              " '/usr/lib/python3.10',\n",
              " '/usr/lib/python3.10/lib-dynload',\n",
              " '',\n",
              " '/usr/local/lib/python3.10/dist-packages',\n",
              " '/usr/lib/python3/dist-packages',\n",
              " '/usr/local/lib/python3.10/dist-packages/IPython/extensions',\n",
              " '/usr/local/lib/python3.10/dist-packages/setuptools/_vendor',\n",
              " '/root/.ipython']"
            ]
          },
          "metadata": {},
          "execution_count": 4
        }
      ],
      "source": [
        "print(sys.executable)\n",
        "sys.path"
      ]
    },
    {
      "cell_type": "markdown",
      "metadata": {
        "id": "BVZeLUFeILol"
      },
      "source": [
        "### [실습] 파이썬 정보 확인하기\n",
        "\n",
        "\n",
        "1.   설치된 파이썬 버전 출력하기\n",
        "2.   파이썬 실행파일 위치 출력하기\n",
        "\n"
      ]
    },
    {
      "cell_type": "code",
      "execution_count": null,
      "metadata": {
        "id": "wYTlynjPIaj4"
      },
      "outputs": [],
      "source": [
        "import sys\n",
        "\n",
        "print(f'설치된 파이썬 버전: { }')\n",
        "print(f'파이썬 실행파일 위치: { }')"
      ]
    },
    {
      "cell_type": "markdown",
      "metadata": {
        "id": "KE15Fd6jCbUK"
      },
      "source": [
        "### 라이브러리 설치하기"
      ]
    },
    {
      "cell_type": "code",
      "execution_count": null,
      "metadata": {
        "id": "PlG-i1fYCbdI",
        "colab": {
          "base_uri": "https://localhost:8080/"
        },
        "outputId": "b57b321a-5705-437c-d7fd-e37c8b318a4c"
      },
      "outputs": [
        {
          "output_type": "stream",
          "name": "stdout",
          "text": [
            "Requirement already satisfied: missingno in /usr/local/lib/python3.10/dist-packages (0.5.2)\n",
            "Requirement already satisfied: numpy in /usr/local/lib/python3.10/dist-packages (from missingno) (1.26.4)\n",
            "Requirement already satisfied: matplotlib in /usr/local/lib/python3.10/dist-packages (from missingno) (3.7.1)\n",
            "Requirement already satisfied: scipy in /usr/local/lib/python3.10/dist-packages (from missingno) (1.13.1)\n",
            "Requirement already satisfied: seaborn in /usr/local/lib/python3.10/dist-packages (from missingno) (0.13.2)\n",
            "Requirement already satisfied: contourpy>=1.0.1 in /usr/local/lib/python3.10/dist-packages (from matplotlib->missingno) (1.3.0)\n",
            "Requirement already satisfied: cycler>=0.10 in /usr/local/lib/python3.10/dist-packages (from matplotlib->missingno) (0.12.1)\n",
            "Requirement already satisfied: fonttools>=4.22.0 in /usr/local/lib/python3.10/dist-packages (from matplotlib->missingno) (4.54.1)\n",
            "Requirement already satisfied: kiwisolver>=1.0.1 in /usr/local/lib/python3.10/dist-packages (from matplotlib->missingno) (1.4.7)\n",
            "Requirement already satisfied: packaging>=20.0 in /usr/local/lib/python3.10/dist-packages (from matplotlib->missingno) (24.1)\n",
            "Requirement already satisfied: pillow>=6.2.0 in /usr/local/lib/python3.10/dist-packages (from matplotlib->missingno) (10.4.0)\n",
            "Requirement already satisfied: pyparsing>=2.3.1 in /usr/local/lib/python3.10/dist-packages (from matplotlib->missingno) (3.1.4)\n",
            "Requirement already satisfied: python-dateutil>=2.7 in /usr/local/lib/python3.10/dist-packages (from matplotlib->missingno) (2.8.2)\n",
            "Requirement already satisfied: pandas>=1.2 in /usr/local/lib/python3.10/dist-packages (from seaborn->missingno) (2.2.2)\n",
            "Requirement already satisfied: pytz>=2020.1 in /usr/local/lib/python3.10/dist-packages (from pandas>=1.2->seaborn->missingno) (2024.2)\n",
            "Requirement already satisfied: tzdata>=2022.7 in /usr/local/lib/python3.10/dist-packages (from pandas>=1.2->seaborn->missingno) (2024.2)\n",
            "Requirement already satisfied: six>=1.5 in /usr/local/lib/python3.10/dist-packages (from python-dateutil>=2.7->matplotlib->missingno) (1.16.0)\n"
          ]
        }
      ],
      "source": [
        "!pip install missingno"
      ]
    },
    {
      "cell_type": "markdown",
      "source": [
        "### 라이브러리 삭제하기"
      ],
      "metadata": {
        "id": "3peceTCrCuXS"
      }
    },
    {
      "cell_type": "code",
      "execution_count": null,
      "metadata": {
        "id": "CO9pIWvq8GGN",
        "scrolled": true,
        "colab": {
          "base_uri": "https://localhost:8080/"
        },
        "outputId": "35ff1cf1-0481-45a8-aa43-848cc8bc85ed"
      },
      "outputs": [
        {
          "output_type": "stream",
          "name": "stdout",
          "text": [
            "Found existing installation: missingno 0.5.2\n",
            "Uninstalling missingno-0.5.2:\n",
            "  Would remove:\n",
            "    /usr/local/lib/python3.10/dist-packages/missingno-0.5.2.dist-info/*\n",
            "    /usr/local/lib/python3.10/dist-packages/missingno/*\n",
            "Proceed (Y/n)? y\n",
            "  Successfully uninstalled missingno-0.5.2\n"
          ]
        }
      ],
      "source": [
        "!pip uninstall missingno"
      ]
    },
    {
      "cell_type": "markdown",
      "metadata": {
        "id": "5KtJAiS08GGO"
      },
      "source": [
        "### 설치된 라이브러리 확인(전체)"
      ]
    },
    {
      "cell_type": "code",
      "execution_count": null,
      "metadata": {
        "id": "0bsTdq6y8GGO",
        "colab": {
          "base_uri": "https://localhost:8080/"
        },
        "collapsed": true,
        "outputId": "8729f090-c116-474a-e492-449942acd2b2"
      },
      "outputs": [
        {
          "output_type": "stream",
          "name": "stdout",
          "text": [
            "Package                            Version\n",
            "---------------------------------- -------------------\n",
            "absl-py                            1.4.0\n",
            "accelerate                         0.34.2\n",
            "aiohappyeyeballs                   2.4.3\n",
            "aiohttp                            3.10.9\n",
            "aiosignal                          1.3.1\n",
            "alabaster                          0.7.16\n",
            "albucore                           0.0.16\n",
            "albumentations                     1.4.15\n",
            "altair                             4.2.2\n",
            "annotated-types                    0.7.0\n",
            "anyio                              3.7.1\n",
            "argon2-cffi                        23.1.0\n",
            "argon2-cffi-bindings               21.2.0\n",
            "array_record                       0.5.1\n",
            "arviz                              0.19.0\n",
            "astropy                            6.1.4\n",
            "astropy-iers-data                  0.2024.10.7.0.32.46\n",
            "astunparse                         1.6.3\n",
            "async-timeout                      4.0.3\n",
            "atpublic                           4.1.0\n",
            "attrs                              24.2.0\n",
            "audioread                          3.0.1\n",
            "autograd                           1.7.0\n",
            "babel                              2.16.0\n",
            "backcall                           0.2.0\n",
            "beautifulsoup4                     4.12.3\n",
            "bigframes                          1.21.0\n",
            "bigquery-magics                    0.4.0\n",
            "bleach                             6.1.0\n",
            "blinker                            1.4\n",
            "blis                               0.7.11\n",
            "blosc2                             2.0.0\n",
            "bokeh                              3.4.3\n",
            "Bottleneck                         1.4.0\n",
            "bqplot                             0.12.43\n",
            "branca                             0.8.0\n",
            "build                              1.2.2.post1\n",
            "CacheControl                       0.14.0\n",
            "cachetools                         5.5.0\n",
            "catalogue                          2.0.10\n",
            "certifi                            2024.8.30\n",
            "cffi                               1.17.1\n",
            "chardet                            5.2.0\n",
            "charset-normalizer                 3.3.2\n",
            "chex                               0.1.87\n",
            "clarabel                           0.9.0\n",
            "click                              8.1.7\n",
            "cloudpathlib                       0.19.0\n",
            "cloudpickle                        2.2.1\n",
            "cmake                              3.30.4\n",
            "cmdstanpy                          1.2.4\n",
            "colorcet                           3.1.0\n",
            "colorlover                         0.3.0\n",
            "colour                             0.1.5\n",
            "community                          1.0.0b1\n",
            "confection                         0.1.5\n",
            "cons                               0.4.6\n",
            "contextlib2                        21.6.0\n",
            "contourpy                          1.3.0\n",
            "cryptography                       43.0.1\n",
            "cuda-python                        12.2.1\n",
            "cudf-cu12                          24.6.1\n",
            "cufflinks                          0.17.3\n",
            "cupy-cuda12x                       12.2.0\n",
            "cvxopt                             1.3.2\n",
            "cvxpy                              1.5.3\n",
            "cycler                             0.12.1\n",
            "cymem                              2.0.8\n",
            "Cython                             3.0.11\n",
            "dask                               2024.8.0\n",
            "datascience                        0.17.6\n",
            "db-dtypes                          1.3.0\n",
            "dbus-python                        1.2.18\n",
            "debugpy                            1.6.6\n",
            "decorator                          4.4.2\n",
            "defusedxml                         0.7.1\n",
            "Deprecated                         1.2.14\n",
            "distributed                        2024.8.0\n",
            "distro                             1.7.0\n",
            "dlib                               19.24.2\n",
            "dm-tree                            0.1.8\n",
            "docstring_parser                   0.16\n",
            "docutils                           0.18.1\n",
            "dopamine_rl                        4.0.9\n",
            "duckdb                             1.1.1\n",
            "earthengine-api                    1.0.0\n",
            "easydict                           1.13\n",
            "ecos                               2.0.14\n",
            "editdistance                       0.8.1\n",
            "eerepr                             0.0.4\n",
            "einops                             0.8.0\n",
            "en-core-web-sm                     3.7.1\n",
            "entrypoints                        0.4\n",
            "et-xmlfile                         1.1.0\n",
            "etils                              1.9.4\n",
            "etuples                            0.3.9\n",
            "eval_type_backport                 0.2.0\n",
            "exceptiongroup                     1.2.2\n",
            "fastai                             2.7.17\n",
            "fastcore                           1.7.11\n",
            "fastdownload                       0.0.7\n",
            "fastjsonschema                     2.20.0\n",
            "fastprogress                       1.0.3\n",
            "fastrlock                          0.8.2\n",
            "filelock                           3.16.1\n",
            "firebase-admin                     6.5.0\n",
            "Flask                              2.2.5\n",
            "flatbuffers                        24.3.25\n",
            "flax                               0.8.5\n",
            "folium                             0.17.0\n",
            "fonttools                          4.54.1\n",
            "frozendict                         2.4.5\n",
            "frozenlist                         1.4.1\n",
            "fsspec                             2024.6.1\n",
            "future                             1.0.0\n",
            "gast                               0.6.0\n",
            "gcsfs                              2024.6.1\n",
            "GDAL                               3.6.4\n",
            "gdown                              5.2.0\n",
            "geemap                             0.34.5\n",
            "gensim                             4.3.3\n",
            "geocoder                           1.38.1\n",
            "geographiclib                      2.0\n",
            "geopandas                          1.0.1\n",
            "geopy                              2.4.1\n",
            "gin-config                         0.5.0\n",
            "glob2                              0.7\n",
            "google                             2.0.3\n",
            "google-ai-generativelanguage       0.6.6\n",
            "google-api-core                    2.19.2\n",
            "google-api-python-client           2.137.0\n",
            "google-auth                        2.27.0\n",
            "google-auth-httplib2               0.2.0\n",
            "google-auth-oauthlib               1.2.1\n",
            "google-cloud-aiplatform            1.69.0\n",
            "google-cloud-bigquery              3.25.0\n",
            "google-cloud-bigquery-connection   1.15.5\n",
            "google-cloud-bigquery-storage      2.26.0\n",
            "google-cloud-bigtable              2.26.0\n",
            "google-cloud-core                  2.4.1\n",
            "google-cloud-datastore             2.19.0\n",
            "google-cloud-firestore             2.16.1\n",
            "google-cloud-functions             1.16.5\n",
            "google-cloud-iam                   2.15.2\n",
            "google-cloud-language              2.13.4\n",
            "google-cloud-pubsub                2.25.2\n",
            "google-cloud-resource-manager      1.12.5\n",
            "google-cloud-storage               2.8.0\n",
            "google-cloud-translate             3.15.5\n",
            "google-colab                       1.0.0\n",
            "google-crc32c                      1.6.0\n",
            "google-generativeai                0.7.2\n",
            "google-pasta                       0.2.0\n",
            "google-resumable-media             2.7.2\n",
            "googleapis-common-protos           1.65.0\n",
            "googledrivedownloader              0.4\n",
            "graphviz                           0.20.3\n",
            "greenlet                           3.1.1\n",
            "grpc-google-iam-v1                 0.13.1\n",
            "grpcio                             1.64.1\n",
            "grpcio-status                      1.48.2\n",
            "gspread                            6.0.2\n",
            "gspread-dataframe                  3.3.1\n",
            "gym                                0.25.2\n",
            "gym-notices                        0.0.8\n",
            "h5netcdf                           1.4.0\n",
            "h5py                               3.11.0\n",
            "holidays                           0.57\n",
            "holoviews                          1.19.1\n",
            "html5lib                           1.1\n",
            "httpimport                         1.4.0\n",
            "httplib2                           0.22.0\n",
            "huggingface-hub                    0.24.7\n",
            "humanize                           4.10.0\n",
            "hyperopt                           0.2.7\n",
            "ibis-framework                     9.2.0\n",
            "idna                               3.10\n",
            "imageio                            2.35.1\n",
            "imageio-ffmpeg                     0.5.1\n",
            "imagesize                          1.4.1\n",
            "imbalanced-learn                   0.12.4\n",
            "imgaug                             0.4.0\n",
            "immutabledict                      4.2.0\n",
            "importlib_metadata                 8.4.0\n",
            "importlib_resources                6.4.5\n",
            "imutils                            0.5.4\n",
            "inflect                            7.4.0\n",
            "iniconfig                          2.0.0\n",
            "intel-cmplr-lib-ur                 2024.2.1\n",
            "intel-openmp                       2024.2.1\n",
            "ipyevents                          2.0.2\n",
            "ipyfilechooser                     0.6.0\n",
            "ipykernel                          5.5.6\n",
            "ipyleaflet                         0.19.2\n",
            "ipyparallel                        8.8.0\n",
            "ipython                            7.34.0\n",
            "ipython-genutils                   0.2.0\n",
            "ipython-sql                        0.5.0\n",
            "ipytree                            0.2.2\n",
            "ipywidgets                         7.7.1\n",
            "itsdangerous                       2.2.0\n",
            "jax                                0.4.33\n",
            "jax-cuda12-pjrt                    0.4.33\n",
            "jax-cuda12-plugin                  0.4.33\n",
            "jaxlib                             0.4.33\n",
            "jeepney                            0.7.1\n",
            "jellyfish                          1.1.0\n",
            "jieba                              0.42.1\n",
            "Jinja2                             3.1.4\n",
            "joblib                             1.4.2\n",
            "jsonpickle                         3.3.0\n",
            "jsonschema                         4.23.0\n",
            "jsonschema-specifications          2023.12.1\n",
            "jupyter-client                     6.1.12\n",
            "jupyter-console                    6.1.0\n",
            "jupyter_core                       5.7.2\n",
            "jupyter-leaflet                    0.19.2\n",
            "jupyter-server                     1.24.0\n",
            "jupyterlab_pygments                0.3.0\n",
            "jupyterlab_widgets                 3.0.13\n",
            "kaggle                             1.6.17\n",
            "kagglehub                          0.3.1\n",
            "keras                              3.4.1\n",
            "keyring                            23.5.0\n",
            "kiwisolver                         1.4.7\n",
            "langcodes                          3.4.1\n",
            "language_data                      1.2.0\n",
            "launchpadlib                       1.10.16\n",
            "lazr.restfulclient                 0.14.4\n",
            "lazr.uri                           1.0.6\n",
            "lazy_loader                        0.4\n",
            "libclang                           18.1.1\n",
            "librosa                            0.10.2.post1\n",
            "lightgbm                           4.5.0\n",
            "linkify-it-py                      2.0.3\n",
            "llvmlite                           0.43.0\n",
            "locket                             1.0.0\n",
            "logical-unification                0.4.6\n",
            "lxml                               4.9.4\n",
            "marisa-trie                        1.2.0\n",
            "Markdown                           3.7\n",
            "markdown-it-py                     3.0.0\n",
            "MarkupSafe                         2.1.5\n",
            "matplotlib                         3.7.1\n",
            "matplotlib-inline                  0.1.7\n",
            "matplotlib-venn                    1.1.1\n",
            "mdit-py-plugins                    0.4.2\n",
            "mdurl                              0.1.2\n",
            "miniKanren                         1.0.3\n",
            "mistune                            0.8.4\n",
            "mizani                             0.11.4\n",
            "mkl                                2024.2.2\n",
            "ml-dtypes                          0.4.1\n",
            "mlxtend                            0.23.1\n",
            "more-itertools                     10.5.0\n",
            "moviepy                            1.0.3\n",
            "mpmath                             1.3.0\n",
            "msgpack                            1.0.8\n",
            "multidict                          6.1.0\n",
            "multipledispatch                   1.0.0\n",
            "multitasking                       0.0.11\n",
            "murmurhash                         1.0.10\n",
            "music21                            9.1.0\n",
            "namex                              0.0.8\n",
            "natsort                            8.4.0\n",
            "nbclassic                          1.1.0\n",
            "nbclient                           0.10.0\n",
            "nbconvert                          6.5.4\n",
            "nbformat                           5.10.4\n",
            "nest-asyncio                       1.6.0\n",
            "networkx                           3.3\n",
            "nibabel                            5.2.1\n",
            "nltk                               3.8.1\n",
            "notebook                           6.5.5\n",
            "notebook_shim                      0.2.4\n",
            "numba                              0.60.0\n",
            "numexpr                            2.10.1\n",
            "numpy                              1.26.4\n",
            "nvidia-cublas-cu12                 12.6.3.3\n",
            "nvidia-cuda-cupti-cu12             12.6.80\n",
            "nvidia-cuda-nvcc-cu12              12.6.77\n",
            "nvidia-cuda-runtime-cu12           12.6.77\n",
            "nvidia-cudnn-cu12                  9.4.0.58\n",
            "nvidia-cufft-cu12                  11.3.0.4\n",
            "nvidia-cusolver-cu12               11.7.1.2\n",
            "nvidia-cusparse-cu12               12.5.4.2\n",
            "nvidia-nccl-cu12                   2.23.4\n",
            "nvidia-nvjitlink-cu12              12.6.77\n",
            "nvtx                               0.2.10\n",
            "oauth2client                       4.1.3\n",
            "oauthlib                           3.2.2\n",
            "opencv-contrib-python              4.10.0.84\n",
            "opencv-python                      4.10.0.84\n",
            "opencv-python-headless             4.10.0.84\n",
            "openpyxl                           3.1.5\n",
            "opentelemetry-api                  1.27.0\n",
            "opentelemetry-sdk                  1.27.0\n",
            "opentelemetry-semantic-conventions 0.48b0\n",
            "opt_einsum                         3.4.0\n",
            "optax                              0.2.3\n",
            "optree                             0.13.0\n",
            "orbax-checkpoint                   0.6.4\n",
            "osqp                               0.6.7.post0\n",
            "packaging                          24.1\n",
            "pandas                             2.2.2\n",
            "pandas-datareader                  0.10.0\n",
            "pandas-gbq                         0.23.2\n",
            "pandas-stubs                       2.2.2.240909\n",
            "pandocfilters                      1.5.1\n",
            "panel                              1.4.5\n",
            "param                              2.1.1\n",
            "parso                              0.8.4\n",
            "parsy                              2.1\n",
            "partd                              1.4.2\n",
            "pathlib                            1.0.1\n",
            "patsy                              0.5.6\n",
            "peewee                             3.17.6\n",
            "pexpect                            4.9.0\n",
            "pickleshare                        0.7.5\n",
            "pillow                             10.4.0\n",
            "pip                                24.1.2\n",
            "pip-tools                          7.4.1\n",
            "platformdirs                       4.3.6\n",
            "plotly                             5.24.1\n",
            "plotnine                           0.13.6\n",
            "pluggy                             1.5.0\n",
            "polars                             1.7.1\n",
            "pooch                              1.8.2\n",
            "portpicker                         1.5.2\n",
            "prefetch_generator                 1.0.3\n",
            "preshed                            3.0.9\n",
            "prettytable                        3.11.0\n",
            "proglog                            0.1.10\n",
            "progressbar2                       4.5.0\n",
            "prometheus_client                  0.21.0\n",
            "promise                            2.3\n",
            "prompt_toolkit                     3.0.48\n",
            "prophet                            1.1.6\n",
            "proto-plus                         1.24.0\n",
            "protobuf                           3.20.3\n",
            "psutil                             5.9.5\n",
            "psycopg2                           2.9.9\n",
            "ptyprocess                         0.7.0\n",
            "py-cpuinfo                         9.0.0\n",
            "py4j                               0.10.9.7\n",
            "pyarrow                            16.1.0\n",
            "pyarrow-hotfix                     0.6\n",
            "pyasn1                             0.6.1\n",
            "pyasn1_modules                     0.4.1\n",
            "pycocotools                        2.0.8\n",
            "pycparser                          2.22\n",
            "pydantic                           2.9.2\n",
            "pydantic_core                      2.23.4\n",
            "pydata-google-auth                 1.8.2\n",
            "pydot                              3.0.2\n",
            "pydot-ng                           2.0.0\n",
            "pydotplus                          2.0.2\n",
            "PyDrive                            1.3.1\n",
            "PyDrive2                           1.20.0\n",
            "pyerfa                             2.0.1.4\n",
            "pygame                             2.6.1\n",
            "Pygments                           2.18.0\n",
            "PyGObject                          3.42.1\n",
            "PyJWT                              2.9.0\n",
            "pymc                               5.16.2\n",
            "pymystem3                          0.2.0\n",
            "pynvjitlink-cu12                   0.3.0\n",
            "pyogrio                            0.10.0\n",
            "PyOpenGL                           3.1.7\n",
            "pyOpenSSL                          24.2.1\n",
            "pyparsing                          3.1.4\n",
            "pyperclip                          1.9.0\n",
            "pyproj                             3.7.0\n",
            "pyproject_hooks                    1.2.0\n",
            "pyshp                              2.3.1\n",
            "PySocks                            1.7.1\n",
            "pytensor                           2.25.5\n",
            "pytest                             7.4.4\n",
            "python-apt                         0.0.0\n",
            "python-box                         7.2.0\n",
            "python-dateutil                    2.8.2\n",
            "python-louvain                     0.16\n",
            "python-slugify                     8.0.4\n",
            "python-utils                       3.9.0\n",
            "pytz                               2024.2\n",
            "pyviz_comms                        3.0.3\n",
            "PyYAML                             6.0.2\n",
            "pyzmq                              24.0.1\n",
            "qdldl                              0.1.7.post4\n",
            "ratelim                            0.1.6\n",
            "referencing                        0.35.1\n",
            "regex                              2024.9.11\n",
            "requests                           2.32.3\n",
            "requests-oauthlib                  1.3.1\n",
            "requirements-parser                0.9.0\n",
            "rich                               13.9.2\n",
            "rmm-cu12                           24.6.0\n",
            "rpds-py                            0.20.0\n",
            "rpy2                               3.4.2\n",
            "rsa                                4.9\n",
            "safetensors                        0.4.5\n",
            "scikit-image                       0.24.0\n",
            "scikit-learn                       1.5.2\n",
            "scipy                              1.13.1\n",
            "scooby                             0.10.0\n",
            "scs                                3.2.7\n",
            "seaborn                            0.13.2\n",
            "SecretStorage                      3.3.1\n",
            "Send2Trash                         1.8.3\n",
            "sentencepiece                      0.2.0\n",
            "setuptools                         71.0.4\n",
            "shapely                            2.0.6\n",
            "shellingham                        1.5.4\n",
            "simple-parsing                     0.1.6\n",
            "six                                1.16.0\n",
            "sklearn-pandas                     2.2.0\n",
            "smart-open                         7.0.5\n",
            "sniffio                            1.3.1\n",
            "snowballstemmer                    2.2.0\n",
            "sortedcontainers                   2.4.0\n",
            "soundfile                          0.12.1\n",
            "soupsieve                          2.6\n",
            "soxr                               0.5.0.post1\n",
            "spacy                              3.7.5\n",
            "spacy-legacy                       3.0.12\n",
            "spacy-loggers                      1.0.5\n",
            "Sphinx                             5.0.2\n",
            "sphinxcontrib-applehelp            2.0.0\n",
            "sphinxcontrib-devhelp              2.0.0\n",
            "sphinxcontrib-htmlhelp             2.1.0\n",
            "sphinxcontrib-jsmath               1.0.1\n",
            "sphinxcontrib-qthelp               2.0.0\n",
            "sphinxcontrib-serializinghtml      2.0.0\n",
            "SQLAlchemy                         2.0.35\n",
            "sqlglot                            25.1.0\n",
            "sqlparse                           0.5.1\n",
            "srsly                              2.4.8\n",
            "stanio                             0.5.1\n",
            "statsmodels                        0.14.4\n",
            "StrEnum                            0.4.15\n",
            "sympy                              1.13.3\n",
            "tables                             3.8.0\n",
            "tabulate                           0.9.0\n",
            "tbb                                2021.13.1\n",
            "tblib                              3.0.0\n",
            "tenacity                           9.0.0\n",
            "tensorboard                        2.17.0\n",
            "tensorboard-data-server            0.7.2\n",
            "tensorflow                         2.17.0\n",
            "tensorflow-datasets                4.9.6\n",
            "tensorflow-hub                     0.16.1\n",
            "tensorflow-io-gcs-filesystem       0.37.1\n",
            "tensorflow-metadata                1.16.0\n",
            "tensorflow-probability             0.24.0\n",
            "tensorstore                        0.1.66\n",
            "termcolor                          2.5.0\n",
            "terminado                          0.18.1\n",
            "text-unidecode                     1.3\n",
            "textblob                           0.17.1\n",
            "tf_keras                           2.17.0\n",
            "tf-slim                            1.1.0\n",
            "thinc                              8.2.5\n",
            "threadpoolctl                      3.5.0\n",
            "tifffile                           2024.9.20\n",
            "tinycss2                           1.3.0\n",
            "tokenizers                         0.19.1\n",
            "toml                               0.10.2\n",
            "tomli                              2.0.2\n",
            "toolz                              0.12.1\n",
            "torch                              2.4.1+cu121\n",
            "torchaudio                         2.4.1+cu121\n",
            "torchsummary                       1.5.1\n",
            "torchvision                        0.19.1+cu121\n",
            "tornado                            6.3.3\n",
            "tqdm                               4.66.5\n",
            "traitlets                          5.7.1\n",
            "traittypes                         0.2.1\n",
            "transformers                       4.44.2\n",
            "tweepy                             4.14.0\n",
            "typeguard                          4.3.0\n",
            "typer                              0.12.5\n",
            "types-pytz                         2024.2.0.20241003\n",
            "types-setuptools                   75.1.0.20240917\n",
            "typing_extensions                  4.12.2\n",
            "tzdata                             2024.2\n",
            "tzlocal                            5.2\n",
            "uc-micro-py                        1.0.3\n",
            "uritemplate                        4.1.1\n",
            "urllib3                            2.2.3\n",
            "vega-datasets                      0.9.0\n",
            "wadllib                            1.3.6\n",
            "wasabi                             1.1.3\n",
            "wcwidth                            0.2.13\n",
            "weasel                             0.4.1\n",
            "webcolors                          24.8.0\n",
            "webencodings                       0.5.1\n",
            "websocket-client                   1.8.0\n",
            "Werkzeug                           3.0.4\n",
            "wheel                              0.44.0\n",
            "widgetsnbextension                 3.6.9\n",
            "wordcloud                          1.9.3\n",
            "wrapt                              1.16.0\n",
            "xarray                             2024.9.0\n",
            "xarray-einstats                    0.8.0\n",
            "xgboost                            2.1.1\n",
            "xlrd                               2.0.1\n",
            "xyzservices                        2024.9.0\n",
            "yarl                               1.13.1\n",
            "yellowbrick                        1.5\n",
            "yfinance                           0.2.44\n",
            "zict                               3.0.0\n",
            "zipp                               3.20.2\n"
          ]
        }
      ],
      "source": [
        "pip list"
      ]
    },
    {
      "cell_type": "markdown",
      "metadata": {
        "id": "G_IjDeFh8GGP"
      },
      "source": [
        "### 설치된 라이브러리 확인(특정 라이브러리)"
      ]
    },
    {
      "cell_type": "code",
      "execution_count": null,
      "metadata": {
        "id": "TqvE9YpV8GGP",
        "colab": {
          "base_uri": "https://localhost:8080/"
        },
        "collapsed": true,
        "outputId": "e5033108-5bb6-4b94-dca9-a11bc8bdce69"
      },
      "outputs": [
        {
          "output_type": "stream",
          "name": "stdout",
          "text": [
            "Name: numpy\n",
            "Version: 1.26.4\n",
            "Summary: Fundamental package for array computing in Python\n",
            "Home-page: https://numpy.org\n",
            "Author: Travis E. Oliphant et al.\n",
            "Author-email: \n",
            "License: Copyright (c) 2005-2023, NumPy Developers.\n",
            "        All rights reserved.\n",
            "        \n",
            "        Redistribution and use in source and binary forms, with or without\n",
            "        modification, are permitted provided that the following conditions are\n",
            "        met:\n",
            "        \n",
            "            * Redistributions of source code must retain the above copyright\n",
            "               notice, this list of conditions and the following disclaimer.\n",
            "        \n",
            "            * Redistributions in binary form must reproduce the above\n",
            "               copyright notice, this list of conditions and the following\n",
            "               disclaimer in the documentation and/or other materials provided\n",
            "               with the distribution.\n",
            "        \n",
            "            * Neither the name of the NumPy Developers nor the names of any\n",
            "               contributors may be used to endorse or promote products derived\n",
            "               from this software without specific prior written permission.\n",
            "        \n",
            "        THIS SOFTWARE IS PROVIDED BY THE COPYRIGHT HOLDERS AND CONTRIBUTORS\n",
            "        \"AS IS\" AND ANY EXPRESS OR IMPLIED WARRANTIES, INCLUDING, BUT NOT\n",
            "        LIMITED TO, THE IMPLIED WARRANTIES OF MERCHANTABILITY AND FITNESS FOR\n",
            "        A PARTICULAR PURPOSE ARE DISCLAIMED. IN NO EVENT SHALL THE COPYRIGHT\n",
            "        OWNER OR CONTRIBUTORS BE LIABLE FOR ANY DIRECT, INDIRECT, INCIDENTAL,\n",
            "        SPECIAL, EXEMPLARY, OR CONSEQUENTIAL DAMAGES (INCLUDING, BUT NOT\n",
            "        LIMITED TO, PROCUREMENT OF SUBSTITUTE GOODS OR SERVICES; LOSS OF USE,\n",
            "        DATA, OR PROFITS; OR BUSINESS INTERRUPTION) HOWEVER CAUSED AND ON ANY\n",
            "        THEORY OF LIABILITY, WHETHER IN CONTRACT, STRICT LIABILITY, OR TORT\n",
            "        (INCLUDING NEGLIGENCE OR OTHERWISE) ARISING IN ANY WAY OUT OF THE USE\n",
            "        OF THIS SOFTWARE, EVEN IF ADVISED OF THE POSSIBILITY OF SUCH DAMAGE.\n",
            "        \n",
            "        ----\n",
            "        \n",
            "        The NumPy repository and source distributions bundle several libraries that are\n",
            "        compatibly licensed.  We list these here.\n",
            "        \n",
            "        Name: lapack-lite\n",
            "        Files: numpy/linalg/lapack_lite/*\n",
            "        License: BSD-3-Clause\n",
            "          For details, see numpy/linalg/lapack_lite/LICENSE.txt\n",
            "        \n",
            "        Name: tempita\n",
            "        Files: tools/npy_tempita/*\n",
            "        License: MIT\n",
            "          For details, see tools/npy_tempita/license.txt\n",
            "        \n",
            "        Name: dragon4\n",
            "        Files: numpy/core/src/multiarray/dragon4.c\n",
            "        License: MIT\n",
            "          For license text, see numpy/core/src/multiarray/dragon4.c\n",
            "        \n",
            "        Name: libdivide\n",
            "        Files: numpy/core/include/numpy/libdivide/*\n",
            "        License: Zlib\n",
            "          For license text, see numpy/core/include/numpy/libdivide/LICENSE.txt\n",
            "        \n",
            "        \n",
            "        Note that the following files are vendored in the repository and sdist but not\n",
            "        installed in built numpy packages:\n",
            "        \n",
            "        Name: Meson\n",
            "        Files: vendored-meson/meson/*\n",
            "        License: Apache 2.0\n",
            "          For license text, see vendored-meson/meson/COPYING\n",
            "        \n",
            "        Name: spin\n",
            "        Files: .spin/cmds.py\n",
            "        License: BSD-3\n",
            "          For license text, see .spin/LICENSE\n",
            "        \n",
            "        ----\n",
            "        \n",
            "        This binary distribution of NumPy also bundles the following software:\n",
            "        \n",
            "        \n",
            "        Name: OpenBLAS\n",
            "        Files: numpy.libs/libopenblas*.so\n",
            "        Description: bundled as a dynamically linked library\n",
            "        Availability: https://github.com/OpenMathLib/OpenBLAS/\n",
            "        License: BSD-3-Clause\n",
            "          Copyright (c) 2011-2014, The OpenBLAS Project\n",
            "          All rights reserved.\n",
            "        \n",
            "          Redistribution and use in source and binary forms, with or without\n",
            "          modification, are permitted provided that the following conditions are\n",
            "          met:\n",
            "        \n",
            "             1. Redistributions of source code must retain the above copyright\n",
            "                notice, this list of conditions and the following disclaimer.\n",
            "        \n",
            "             2. Redistributions in binary form must reproduce the above copyright\n",
            "                notice, this list of conditions and the following disclaimer in\n",
            "                the documentation and/or other materials provided with the\n",
            "                distribution.\n",
            "             3. Neither the name of the OpenBLAS project nor the names of\n",
            "                its contributors may be used to endorse or promote products\n",
            "                derived from this software without specific prior written\n",
            "                permission.\n",
            "        \n",
            "          THIS SOFTWARE IS PROVIDED BY THE COPYRIGHT HOLDERS AND CONTRIBUTORS \"AS IS\"\n",
            "          AND ANY EXPRESS OR IMPLIED WARRANTIES, INCLUDING, BUT NOT LIMITED TO, THE\n",
            "          IMPLIED WARRANTIES OF MERCHANTABILITY AND FITNESS FOR A PARTICULAR PURPOSE\n",
            "          ARE DISCLAIMED. IN NO EVENT SHALL THE COPYRIGHT OWNER OR CONTRIBUTORS BE\n",
            "          LIABLE FOR ANY DIRECT, INDIRECT, INCIDENTAL, SPECIAL, EXEMPLARY, OR CONSEQUENTIAL\n",
            "          DAMAGES (INCLUDING, BUT NOT LIMITED TO, PROCUREMENT OF SUBSTITUTE GOODS OR\n",
            "          SERVICES; LOSS OF USE, DATA, OR PROFITS; OR BUSINESS INTERRUPTION) HOWEVER\n",
            "          CAUSED AND ON ANY THEORY OF LIABILITY, WHETHER IN CONTRACT, STRICT LIABILITY,\n",
            "          OR TORT (INCLUDING NEGLIGENCE OR OTHERWISE) ARISING IN ANY WAY OUT OF THE\n",
            "          USE OF THIS SOFTWARE, EVEN IF ADVISED OF THE POSSIBILITY OF SUCH DAMAGE.\n",
            "        \n",
            "        \n",
            "        Name: LAPACK\n",
            "        Files: numpy.libs/libopenblas*.so\n",
            "        Description: bundled in OpenBLAS\n",
            "        Availability: https://github.com/OpenMathLib/OpenBLAS/\n",
            "        License: BSD-3-Clause-Attribution\n",
            "          Copyright (c) 1992-2013 The University of Tennessee and The University\n",
            "                                  of Tennessee Research Foundation.  All rights\n",
            "                                  reserved.\n",
            "          Copyright (c) 2000-2013 The University of California Berkeley. All\n",
            "                                  rights reserved.\n",
            "          Copyright (c) 2006-2013 The University of Colorado Denver.  All rights\n",
            "                                  reserved.\n",
            "        \n",
            "          $COPYRIGHT$\n",
            "        \n",
            "          Additional copyrights may follow\n",
            "        \n",
            "          $HEADER$\n",
            "        \n",
            "          Redistribution and use in source and binary forms, with or without\n",
            "          modification, are permitted provided that the following conditions are\n",
            "          met:\n",
            "        \n",
            "          - Redistributions of source code must retain the above copyright\n",
            "            notice, this list of conditions and the following disclaimer.\n",
            "        \n",
            "          - Redistributions in binary form must reproduce the above copyright\n",
            "            notice, this list of conditions and the following disclaimer listed\n",
            "            in this license in the documentation and/or other materials\n",
            "            provided with the distribution.\n",
            "        \n",
            "          - Neither the name of the copyright holders nor the names of its\n",
            "            contributors may be used to endorse or promote products derived from\n",
            "            this software without specific prior written permission.\n",
            "        \n",
            "          The copyright holders provide no reassurances that the source code\n",
            "          provided does not infringe any patent, copyright, or any other\n",
            "          intellectual property rights of third parties.  The copyright holders\n",
            "          disclaim any liability to any recipient for claims brought against\n",
            "          recipient by any third party for infringement of that parties\n",
            "          intellectual property rights.\n",
            "        \n",
            "          THIS SOFTWARE IS PROVIDED BY THE COPYRIGHT HOLDERS AND CONTRIBUTORS\n",
            "          \"AS IS\" AND ANY EXPRESS OR IMPLIED WARRANTIES, INCLUDING, BUT NOT\n",
            "          LIMITED TO, THE IMPLIED WARRANTIES OF MERCHANTABILITY AND FITNESS FOR\n",
            "          A PARTICULAR PURPOSE ARE DISCLAIMED. IN NO EVENT SHALL THE COPYRIGHT\n",
            "          OWNER OR CONTRIBUTORS BE LIABLE FOR ANY DIRECT, INDIRECT, INCIDENTAL,\n",
            "          SPECIAL, EXEMPLARY, OR CONSEQUENTIAL DAMAGES (INCLUDING, BUT NOT\n",
            "          LIMITED TO, PROCUREMENT OF SUBSTITUTE GOODS OR SERVICES; LOSS OF USE,\n",
            "          DATA, OR PROFITS; OR BUSINESS INTERRUPTION) HOWEVER CAUSED AND ON ANY\n",
            "          THEORY OF LIABILITY, WHETHER IN CONTRACT, STRICT LIABILITY, OR TORT\n",
            "          (INCLUDING NEGLIGENCE OR OTHERWISE) ARISING IN ANY WAY OUT OF THE USE\n",
            "          OF THIS SOFTWARE, EVEN IF ADVISED OF THE POSSIBILITY OF SUCH DAMAGE.\n",
            "        \n",
            "        \n",
            "        Name: GCC runtime library\n",
            "        Files: numpy.libs/libgfortran*.so\n",
            "        Description: dynamically linked to files compiled with gcc\n",
            "        Availability: https://gcc.gnu.org/git/?p=gcc.git;a=tree;f=libgfortran\n",
            "        License: GPL-3.0-with-GCC-exception\n",
            "          Copyright (C) 2002-2017 Free Software Foundation, Inc.\n",
            "        \n",
            "          Libgfortran is free software; you can redistribute it and/or modify\n",
            "          it under the terms of the GNU General Public License as published by\n",
            "          the Free Software Foundation; either version 3, or (at your option)\n",
            "          any later version.\n",
            "        \n",
            "          Libgfortran is distributed in the hope that it will be useful,\n",
            "          but WITHOUT ANY WARRANTY; without even the implied warranty of\n",
            "          MERCHANTABILITY or FITNESS FOR A PARTICULAR PURPOSE.  See the\n",
            "          GNU General Public License for more details.\n",
            "        \n",
            "          Under Section 7 of GPL version 3, you are granted additional\n",
            "          permissions described in the GCC Runtime Library Exception, version\n",
            "          3.1, as published by the Free Software Foundation.\n",
            "        \n",
            "          You should have received a copy of the GNU General Public License and\n",
            "          a copy of the GCC Runtime Library Exception along with this program;\n",
            "          see the files COPYING3 and COPYING.RUNTIME respectively.  If not, see\n",
            "          <http://www.gnu.org/licenses/>.\n",
            "        \n",
            "        ----\n",
            "        \n",
            "        Full text of license texts referred to above follows (that they are\n",
            "        listed below does not necessarily imply the conditions apply to the\n",
            "        present binary release):\n",
            "        \n",
            "        ----\n",
            "        \n",
            "        GCC RUNTIME LIBRARY EXCEPTION\n",
            "        \n",
            "        Version 3.1, 31 March 2009\n",
            "        \n",
            "        Copyright (C) 2009 Free Software Foundation, Inc. <http://fsf.org/>\n",
            "        \n",
            "        Everyone is permitted to copy and distribute verbatim copies of this\n",
            "        license document, but changing it is not allowed.\n",
            "        \n",
            "        This GCC Runtime Library Exception (\"Exception\") is an additional\n",
            "        permission under section 7 of the GNU General Public License, version\n",
            "        3 (\"GPLv3\"). It applies to a given file (the \"Runtime Library\") that\n",
            "        bears a notice placed by the copyright holder of the file stating that\n",
            "        the file is governed by GPLv3 along with this Exception.\n",
            "        \n",
            "        When you use GCC to compile a program, GCC may combine portions of\n",
            "        certain GCC header files and runtime libraries with the compiled\n",
            "        program. The purpose of this Exception is to allow compilation of\n",
            "        non-GPL (including proprietary) programs to use, in this way, the\n",
            "        header files and runtime libraries covered by this Exception.\n",
            "        \n",
            "        0. Definitions.\n",
            "        \n",
            "        A file is an \"Independent Module\" if it either requires the Runtime\n",
            "        Library for execution after a Compilation Process, or makes use of an\n",
            "        interface provided by the Runtime Library, but is not otherwise based\n",
            "        on the Runtime Library.\n",
            "        \n",
            "        \"GCC\" means a version of the GNU Compiler Collection, with or without\n",
            "        modifications, governed by version 3 (or a specified later version) of\n",
            "        the GNU General Public License (GPL) with the option of using any\n",
            "        subsequent versions published by the FSF.\n",
            "        \n",
            "        \"GPL-compatible Software\" is software whose conditions of propagation,\n",
            "        modification and use would permit combination with GCC in accord with\n",
            "        the license of GCC.\n",
            "        \n",
            "        \"Target Code\" refers to output from any compiler for a real or virtual\n",
            "        target processor architecture, in executable form or suitable for\n",
            "        input to an assembler, loader, linker and/or execution\n",
            "        phase. Notwithstanding that, Target Code does not include data in any\n",
            "        format that is used as a compiler intermediate representation, or used\n",
            "        for producing a compiler intermediate representation.\n",
            "        \n",
            "        The \"Compilation Process\" transforms code entirely represented in\n",
            "        non-intermediate languages designed for human-written code, and/or in\n",
            "        Java Virtual Machine byte code, into Target Code. Thus, for example,\n",
            "        use of source code generators and preprocessors need not be considered\n",
            "        part of the Compilation Process, since the Compilation Process can be\n",
            "        understood as starting with the output of the generators or\n",
            "        preprocessors.\n",
            "        \n",
            "        A Compilation Process is \"Eligible\" if it is done using GCC, alone or\n",
            "        with other GPL-compatible software, or if it is done without using any\n",
            "        work based on GCC. For example, using non-GPL-compatible Software to\n",
            "        optimize any GCC intermediate representations would not qualify as an\n",
            "        Eligible Compilation Process.\n",
            "        \n",
            "        1. Grant of Additional Permission.\n",
            "        \n",
            "        You have permission to propagate a work of Target Code formed by\n",
            "        combining the Runtime Library with Independent Modules, even if such\n",
            "        propagation would otherwise violate the terms of GPLv3, provided that\n",
            "        all Target Code was generated by Eligible Compilation Processes. You\n",
            "        may then convey such a combination under terms of your choice,\n",
            "        consistent with the licensing of the Independent Modules.\n",
            "        \n",
            "        2. No Weakening of GCC Copyleft.\n",
            "        \n",
            "        The availability of this Exception does not imply any general\n",
            "        presumption that third-party software is unaffected by the copyleft\n",
            "        requirements of the license of GCC.\n",
            "        \n",
            "        ----\n",
            "        \n",
            "                            GNU GENERAL PUBLIC LICENSE\n",
            "                               Version 3, 29 June 2007\n",
            "        \n",
            "         Copyright (C) 2007 Free Software Foundation, Inc. <http://fsf.org/>\n",
            "         Everyone is permitted to copy and distribute verbatim copies\n",
            "         of this license document, but changing it is not allowed.\n",
            "        \n",
            "                                    Preamble\n",
            "        \n",
            "          The GNU General Public License is a free, copyleft license for\n",
            "        software and other kinds of works.\n",
            "        \n",
            "          The licenses for most software and other practical works are designed\n",
            "        to take away your freedom to share and change the works.  By contrast,\n",
            "        the GNU General Public License is intended to guarantee your freedom to\n",
            "        share and change all versions of a program--to make sure it remains free\n",
            "        software for all its users.  We, the Free Software Foundation, use the\n",
            "        GNU General Public License for most of our software; it applies also to\n",
            "        any other work released this way by its authors.  You can apply it to\n",
            "        your programs, too.\n",
            "        \n",
            "          When we speak of free software, we are referring to freedom, not\n",
            "        price.  Our General Public Licenses are designed to make sure that you\n",
            "        have the freedom to distribute copies of free software (and charge for\n",
            "        them if you wish), that you receive source code or can get it if you\n",
            "        want it, that you can change the software or use pieces of it in new\n",
            "        free programs, and that you know you can do these things.\n",
            "        \n",
            "          To protect your rights, we need to prevent others from denying you\n",
            "        these rights or asking you to surrender the rights.  Therefore, you have\n",
            "        certain responsibilities if you distribute copies of the software, or if\n",
            "        you modify it: responsibilities to respect the freedom of others.\n",
            "        \n",
            "          For example, if you distribute copies of such a program, whether\n",
            "        gratis or for a fee, you must pass on to the recipients the same\n",
            "        freedoms that you received.  You must make sure that they, too, receive\n",
            "        or can get the source code.  And you must show them these terms so they\n",
            "        know their rights.\n",
            "        \n",
            "          Developers that use the GNU GPL protect your rights with two steps:\n",
            "        (1) assert copyright on the software, and (2) offer you this License\n",
            "        giving you legal permission to copy, distribute and/or modify it.\n",
            "        \n",
            "          For the developers' and authors' protection, the GPL clearly explains\n",
            "        that there is no warranty for this free software.  For both users' and\n",
            "        authors' sake, the GPL requires that modified versions be marked as\n",
            "        changed, so that their problems will not be attributed erroneously to\n",
            "        authors of previous versions.\n",
            "        \n",
            "          Some devices are designed to deny users access to install or run\n",
            "        modified versions of the software inside them, although the manufacturer\n",
            "        can do so.  This is fundamentally incompatible with the aim of\n",
            "        protecting users' freedom to change the software.  The systematic\n",
            "        pattern of such abuse occurs in the area of products for individuals to\n",
            "        use, which is precisely where it is most unacceptable.  Therefore, we\n",
            "        have designed this version of the GPL to prohibit the practice for those\n",
            "        products.  If such problems arise substantially in other domains, we\n",
            "        stand ready to extend this provision to those domains in future versions\n",
            "        of the GPL, as needed to protect the freedom of users.\n",
            "        \n",
            "          Finally, every program is threatened constantly by software patents.\n",
            "        States should not allow patents to restrict development and use of\n",
            "        software on general-purpose computers, but in those that do, we wish to\n",
            "        avoid the special danger that patents applied to a free program could\n",
            "        make it effectively proprietary.  To prevent this, the GPL assures that\n",
            "        patents cannot be used to render the program non-free.\n",
            "        \n",
            "          The precise terms and conditions for copying, distribution and\n",
            "        modification follow.\n",
            "        \n",
            "                               TERMS AND CONDITIONS\n",
            "        \n",
            "          0. Definitions.\n",
            "        \n",
            "          \"This License\" refers to version 3 of the GNU General Public License.\n",
            "        \n",
            "          \"Copyright\" also means copyright-like laws that apply to other kinds of\n",
            "        works, such as semiconductor masks.\n",
            "        \n",
            "          \"The Program\" refers to any copyrightable work licensed under this\n",
            "        License.  Each licensee is addressed as \"you\".  \"Licensees\" and\n",
            "        \"recipients\" may be individuals or organizations.\n",
            "        \n",
            "          To \"modify\" a work means to copy from or adapt all or part of the work\n",
            "        in a fashion requiring copyright permission, other than the making of an\n",
            "        exact copy.  The resulting work is called a \"modified version\" of the\n",
            "        earlier work or a work \"based on\" the earlier work.\n",
            "        \n",
            "          A \"covered work\" means either the unmodified Program or a work based\n",
            "        on the Program.\n",
            "        \n",
            "          To \"propagate\" a work means to do anything with it that, without\n",
            "        permission, would make you directly or secondarily liable for\n",
            "        infringement under applicable copyright law, except executing it on a\n",
            "        computer or modifying a private copy.  Propagation includes copying,\n",
            "        distribution (with or without modification), making available to the\n",
            "        public, and in some countries other activities as well.\n",
            "        \n",
            "          To \"convey\" a work means any kind of propagation that enables other\n",
            "        parties to make or receive copies.  Mere interaction with a user through\n",
            "        a computer network, with no transfer of a copy, is not conveying.\n",
            "        \n",
            "          An interactive user interface displays \"Appropriate Legal Notices\"\n",
            "        to the extent that it includes a convenient and prominently visible\n",
            "        feature that (1) displays an appropriate copyright notice, and (2)\n",
            "        tells the user that there is no warranty for the work (except to the\n",
            "        extent that warranties are provided), that licensees may convey the\n",
            "        work under this License, and how to view a copy of this License.  If\n",
            "        the interface presents a list of user commands or options, such as a\n",
            "        menu, a prominent item in the list meets this criterion.\n",
            "        \n",
            "          1. Source Code.\n",
            "        \n",
            "          The \"source code\" for a work means the preferred form of the work\n",
            "        for making modifications to it.  \"Object code\" means any non-source\n",
            "        form of a work.\n",
            "        \n",
            "          A \"Standard Interface\" means an interface that either is an official\n",
            "        standard defined by a recognized standards body, or, in the case of\n",
            "        interfaces specified for a particular programming language, one that\n",
            "        is widely used among developers working in that language.\n",
            "        \n",
            "          The \"System Libraries\" of an executable work include anything, other\n",
            "        than the work as a whole, that (a) is included in the normal form of\n",
            "        packaging a Major Component, but which is not part of that Major\n",
            "        Component, and (b) serves only to enable use of the work with that\n",
            "        Major Component, or to implement a Standard Interface for which an\n",
            "        implementation is available to the public in source code form.  A\n",
            "        \"Major Component\", in this context, means a major essential component\n",
            "        (kernel, window system, and so on) of the specific operating system\n",
            "        (if any) on which the executable work runs, or a compiler used to\n",
            "        produce the work, or an object code interpreter used to run it.\n",
            "        \n",
            "          The \"Corresponding Source\" for a work in object code form means all\n",
            "        the source code needed to generate, install, and (for an executable\n",
            "        work) run the object code and to modify the work, including scripts to\n",
            "        control those activities.  However, it does not include the work's\n",
            "        System Libraries, or general-purpose tools or generally available free\n",
            "        programs which are used unmodified in performing those activities but\n",
            "        which are not part of the work.  For example, Corresponding Source\n",
            "        includes interface definition files associated with source files for\n",
            "        the work, and the source code for shared libraries and dynamically\n",
            "        linked subprograms that the work is specifically designed to require,\n",
            "        such as by intimate data communication or control flow between those\n",
            "        subprograms and other parts of the work.\n",
            "        \n",
            "          The Corresponding Source need not include anything that users\n",
            "        can regenerate automatically from other parts of the Corresponding\n",
            "        Source.\n",
            "        \n",
            "          The Corresponding Source for a work in source code form is that\n",
            "        same work.\n",
            "        \n",
            "          2. Basic Permissions.\n",
            "        \n",
            "          All rights granted under this License are granted for the term of\n",
            "        copyright on the Program, and are irrevocable provided the stated\n",
            "        conditions are met.  This License explicitly affirms your unlimited\n",
            "        permission to run the unmodified Program.  The output from running a\n",
            "        covered work is covered by this License only if the output, given its\n",
            "        content, constitutes a covered work.  This License acknowledges your\n",
            "        rights of fair use or other equivalent, as provided by copyright law.\n",
            "        \n",
            "          You may make, run and propagate covered works that you do not\n",
            "        convey, without conditions so long as your license otherwise remains\n",
            "        in force.  You may convey covered works to others for the sole purpose\n",
            "        of having them make modifications exclusively for you, or provide you\n",
            "        with facilities for running those works, provided that you comply with\n",
            "        the terms of this License in conveying all material for which you do\n",
            "        not control copyright.  Those thus making or running the covered works\n",
            "        for you must do so exclusively on your behalf, under your direction\n",
            "        and control, on terms that prohibit them from making any copies of\n",
            "        your copyrighted material outside their relationship with you.\n",
            "        \n",
            "          Conveying under any other circumstances is permitted solely under\n",
            "        the conditions stated below.  Sublicensing is not allowed; section 10\n",
            "        makes it unnecessary.\n",
            "        \n",
            "          3. Protecting Users' Legal Rights From Anti-Circumvention Law.\n",
            "        \n",
            "          No covered work shall be deemed part of an effective technological\n",
            "        measure under any applicable law fulfilling obligations under article\n",
            "        11 of the WIPO copyright treaty adopted on 20 December 1996, or\n",
            "        similar laws prohibiting or restricting circumvention of such\n",
            "        measures.\n",
            "        \n",
            "          When you convey a covered work, you waive any legal power to forbid\n",
            "        circumvention of technological measures to the extent such circumvention\n",
            "        is effected by exercising rights under this License with respect to\n",
            "        the covered work, and you disclaim any intention to limit operation or\n",
            "        modification of the work as a means of enforcing, against the work's\n",
            "        users, your or third parties' legal rights to forbid circumvention of\n",
            "        technological measures.\n",
            "        \n",
            "          4. Conveying Verbatim Copies.\n",
            "        \n",
            "          You may convey verbatim copies of the Program's source code as you\n",
            "        receive it, in any medium, provided that you conspicuously and\n",
            "        appropriately publish on each copy an appropriate copyright notice;\n",
            "        keep intact all notices stating that this License and any\n",
            "        non-permissive terms added in accord with section 7 apply to the code;\n",
            "        keep intact all notices of the absence of any warranty; and give all\n",
            "        recipients a copy of this License along with the Program.\n",
            "        \n",
            "          You may charge any price or no price for each copy that you convey,\n",
            "        and you may offer support or warranty protection for a fee.\n",
            "        \n",
            "          5. Conveying Modified Source Versions.\n",
            "        \n",
            "          You may convey a work based on the Program, or the modifications to\n",
            "        produce it from the Program, in the form of source code under the\n",
            "        terms of section 4, provided that you also meet all of these conditions:\n",
            "        \n",
            "            a) The work must carry prominent notices stating that you modified\n",
            "            it, and giving a relevant date.\n",
            "        \n",
            "            b) The work must carry prominent notices stating that it is\n",
            "            released under this License and any conditions added under section\n",
            "            7.  This requirement modifies the requirement in section 4 to\n",
            "            \"keep intact all notices\".\n",
            "        \n",
            "            c) You must license the entire work, as a whole, under this\n",
            "            License to anyone who comes into possession of a copy.  This\n",
            "            License will therefore apply, along with any applicable section 7\n",
            "            additional terms, to the whole of the work, and all its parts,\n",
            "            regardless of how they are packaged.  This License gives no\n",
            "            permission to license the work in any other way, but it does not\n",
            "            invalidate such permission if you have separately received it.\n",
            "        \n",
            "            d) If the work has interactive user interfaces, each must display\n",
            "            Appropriate Legal Notices; however, if the Program has interactive\n",
            "            interfaces that do not display Appropriate Legal Notices, your\n",
            "            work need not make them do so.\n",
            "        \n",
            "          A compilation of a covered work with other separate and independent\n",
            "        works, which are not by their nature extensions of the covered work,\n",
            "        and which are not combined with it such as to form a larger program,\n",
            "        in or on a volume of a storage or distribution medium, is called an\n",
            "        \"aggregate\" if the compilation and its resulting copyright are not\n",
            "        used to limit the access or legal rights of the compilation's users\n",
            "        beyond what the individual works permit.  Inclusion of a covered work\n",
            "        in an aggregate does not cause this License to apply to the other\n",
            "        parts of the aggregate.\n",
            "        \n",
            "          6. Conveying Non-Source Forms.\n",
            "        \n",
            "          You may convey a covered work in object code form under the terms\n",
            "        of sections 4 and 5, provided that you also convey the\n",
            "        machine-readable Corresponding Source under the terms of this License,\n",
            "        in one of these ways:\n",
            "        \n",
            "            a) Convey the object code in, or embodied in, a physical product\n",
            "            (including a physical distribution medium), accompanied by the\n",
            "            Corresponding Source fixed on a durable physical medium\n",
            "            customarily used for software interchange.\n",
            "        \n",
            "            b) Convey the object code in, or embodied in, a physical product\n",
            "            (including a physical distribution medium), accompanied by a\n",
            "            written offer, valid for at least three years and valid for as\n",
            "            long as you offer spare parts or customer support for that product\n",
            "            model, to give anyone who possesses the object code either (1) a\n",
            "            copy of the Corresponding Source for all the software in the\n",
            "            product that is covered by this License, on a durable physical\n",
            "            medium customarily used for software interchange, for a price no\n",
            "            more than your reasonable cost of physically performing this\n",
            "            conveying of source, or (2) access to copy the\n",
            "            Corresponding Source from a network server at no charge.\n",
            "        \n",
            "            c) Convey individual copies of the object code with a copy of the\n",
            "            written offer to provide the Corresponding Source.  This\n",
            "            alternative is allowed only occasionally and noncommercially, and\n",
            "            only if you received the object code with such an offer, in accord\n",
            "            with subsection 6b.\n",
            "        \n",
            "            d) Convey the object code by offering access from a designated\n",
            "            place (gratis or for a charge), and offer equivalent access to the\n",
            "            Corresponding Source in the same way through the same place at no\n",
            "            further charge.  You need not require recipients to copy the\n",
            "            Corresponding Source along with the object code.  If the place to\n",
            "            copy the object code is a network server, the Corresponding Source\n",
            "            may be on a different server (operated by you or a third party)\n",
            "            that supports equivalent copying facilities, provided you maintain\n",
            "            clear directions next to the object code saying where to find the\n",
            "            Corresponding Source.  Regardless of what server hosts the\n",
            "            Corresponding Source, you remain obligated to ensure that it is\n",
            "            available for as long as needed to satisfy these requirements.\n",
            "        \n",
            "            e) Convey the object code using peer-to-peer transmission, provided\n",
            "            you inform other peers where the object code and Corresponding\n",
            "            Source of the work are being offered to the general public at no\n",
            "            charge under subsection 6d.\n",
            "        \n",
            "          A separable portion of the object code, whose source code is excluded\n",
            "        from the Corresponding Source as a System Library, need not be\n",
            "        included in conveying the object code work.\n",
            "        \n",
            "          A \"User Product\" is either (1) a \"consumer product\", which means any\n",
            "        tangible personal property which is normally used for personal, family,\n",
            "        or household purposes, or (2) anything designed or sold for incorporation\n",
            "        into a dwelling.  In determining whether a product is a consumer product,\n",
            "        doubtful cases shall be resolved in favor of coverage.  For a particular\n",
            "        product received by a particular user, \"normally used\" refers to a\n",
            "        typical or common use of that class of product, regardless of the status\n",
            "        of the particular user or of the way in which the particular user\n",
            "        actually uses, or expects or is expected to use, the product.  A product\n",
            "        is a consumer product regardless of whether the product has substantial\n",
            "        commercial, industrial or non-consumer uses, unless such uses represent\n",
            "        the only significant mode of use of the product.\n",
            "        \n",
            "          \"Installation Information\" for a User Product means any methods,\n",
            "        procedures, authorization keys, or other information required to install\n",
            "        and execute modified versions of a covered work in that User Product from\n",
            "        a modified version of its Corresponding Source.  The information must\n",
            "        suffice to ensure that the continued functioning of the modified object\n",
            "        code is in no case prevented or interfered with solely because\n",
            "        modification has been made.\n",
            "        \n",
            "          If you convey an object code work under this section in, or with, or\n",
            "        specifically for use in, a User Product, and the conveying occurs as\n",
            "        part of a transaction in which the right of possession and use of the\n",
            "        User Product is transferred to the recipient in perpetuity or for a\n",
            "        fixed term (regardless of how the transaction is characterized), the\n",
            "        Corresponding Source conveyed under this section must be accompanied\n",
            "        by the Installation Information.  But this requirement does not apply\n",
            "        if neither you nor any third party retains the ability to install\n",
            "        modified object code on the User Product (for example, the work has\n",
            "        been installed in ROM).\n",
            "        \n",
            "          The requirement to provide Installation Information does not include a\n",
            "        requirement to continue to provide support service, warranty, or updates\n",
            "        for a work that has been modified or installed by the recipient, or for\n",
            "        the User Product in which it has been modified or installed.  Access to a\n",
            "        network may be denied when the modification itself materially and\n",
            "        adversely affects the operation of the network or violates the rules and\n",
            "        protocols for communication across the network.\n",
            "        \n",
            "          Corresponding Source conveyed, and Installation Information provided,\n",
            "        in accord with this section must be in a format that is publicly\n",
            "        documented (and with an implementation available to the public in\n",
            "        source code form), and must require no special password or key for\n",
            "        unpacking, reading or copying.\n",
            "        \n",
            "          7. Additional Terms.\n",
            "        \n",
            "          \"Additional permissions\" are terms that supplement the terms of this\n",
            "        License by making exceptions from one or more of its conditions.\n",
            "        Additional permissions that are applicable to the entire Program shall\n",
            "        be treated as though they were included in this License, to the extent\n",
            "        that they are valid under applicable law.  If additional permissions\n",
            "        apply only to part of the Program, that part may be used separately\n",
            "        under those permissions, but the entire Program remains governed by\n",
            "        this License without regard to the additional permissions.\n",
            "        \n",
            "          When you convey a copy of a covered work, you may at your option\n",
            "        remove any additional permissions from that copy, or from any part of\n",
            "        it.  (Additional permissions may be written to require their own\n",
            "        removal in certain cases when you modify the work.)  You may place\n",
            "        additional permissions on material, added by you to a covered work,\n",
            "        for which you have or can give appropriate copyright permission.\n",
            "        \n",
            "          Notwithstanding any other provision of this License, for material you\n",
            "        add to a covered work, you may (if authorized by the copyright holders of\n",
            "        that material) supplement the terms of this License with terms:\n",
            "        \n",
            "            a) Disclaiming warranty or limiting liability differently from the\n",
            "            terms of sections 15 and 16 of this License; or\n",
            "        \n",
            "            b) Requiring preservation of specified reasonable legal notices or\n",
            "            author attributions in that material or in the Appropriate Legal\n",
            "            Notices displayed by works containing it; or\n",
            "        \n",
            "            c) Prohibiting misrepresentation of the origin of that material, or\n",
            "            requiring that modified versions of such material be marked in\n",
            "            reasonable ways as different from the original version; or\n",
            "        \n",
            "            d) Limiting the use for publicity purposes of names of licensors or\n",
            "            authors of the material; or\n",
            "        \n",
            "            e) Declining to grant rights under trademark law for use of some\n",
            "            trade names, trademarks, or service marks; or\n",
            "        \n",
            "            f) Requiring indemnification of licensors and authors of that\n",
            "            material by anyone who conveys the material (or modified versions of\n",
            "            it) with contractual assumptions of liability to the recipient, for\n",
            "            any liability that these contractual assumptions directly impose on\n",
            "            those licensors and authors.\n",
            "        \n",
            "          All other non-permissive additional terms are considered \"further\n",
            "        restrictions\" within the meaning of section 10.  If the Program as you\n",
            "        received it, or any part of it, contains a notice stating that it is\n",
            "        governed by this License along with a term that is a further\n",
            "        restriction, you may remove that term.  If a license document contains\n",
            "        a further restriction but permits relicensing or conveying under this\n",
            "        License, you may add to a covered work material governed by the terms\n",
            "        of that license document, provided that the further restriction does\n",
            "        not survive such relicensing or conveying.\n",
            "        \n",
            "          If you add terms to a covered work in accord with this section, you\n",
            "        must place, in the relevant source files, a statement of the\n",
            "        additional terms that apply to those files, or a notice indicating\n",
            "        where to find the applicable terms.\n",
            "        \n",
            "          Additional terms, permissive or non-permissive, may be stated in the\n",
            "        form of a separately written license, or stated as exceptions;\n",
            "        the above requirements apply either way.\n",
            "        \n",
            "          8. Termination.\n",
            "        \n",
            "          You may not propagate or modify a covered work except as expressly\n",
            "        provided under this License.  Any attempt otherwise to propagate or\n",
            "        modify it is void, and will automatically terminate your rights under\n",
            "        this License (including any patent licenses granted under the third\n",
            "        paragraph of section 11).\n",
            "        \n",
            "          However, if you cease all violation of this License, then your\n",
            "        license from a particular copyright holder is reinstated (a)\n",
            "        provisionally, unless and until the copyright holder explicitly and\n",
            "        finally terminates your license, and (b) permanently, if the copyright\n",
            "        holder fails to notify you of the violation by some reasonable means\n",
            "        prior to 60 days after the cessation.\n",
            "        \n",
            "          Moreover, your license from a particular copyright holder is\n",
            "        reinstated permanently if the copyright holder notifies you of the\n",
            "        violation by some reasonable means, this is the first time you have\n",
            "        received notice of violation of this License (for any work) from that\n",
            "        copyright holder, and you cure the violation prior to 30 days after\n",
            "        your receipt of the notice.\n",
            "        \n",
            "          Termination of your rights under this section does not terminate the\n",
            "        licenses of parties who have received copies or rights from you under\n",
            "        this License.  If your rights have been terminated and not permanently\n",
            "        reinstated, you do not qualify to receive new licenses for the same\n",
            "        material under section 10.\n",
            "        \n",
            "          9. Acceptance Not Required for Having Copies.\n",
            "        \n",
            "          You are not required to accept this License in order to receive or\n",
            "        run a copy of the Program.  Ancillary propagation of a covered work\n",
            "        occurring solely as a consequence of using peer-to-peer transmission\n",
            "        to receive a copy likewise does not require acceptance.  However,\n",
            "        nothing other than this License grants you permission to propagate or\n",
            "        modify any covered work.  These actions infringe copyright if you do\n",
            "        not accept this License.  Therefore, by modifying or propagating a\n",
            "        covered work, you indicate your acceptance of this License to do so.\n",
            "        \n",
            "          10. Automatic Licensing of Downstream Recipients.\n",
            "        \n",
            "          Each time you convey a covered work, the recipient automatically\n",
            "        receives a license from the original licensors, to run, modify and\n",
            "        propagate that work, subject to this License.  You are not responsible\n",
            "        for enforcing compliance by third parties with this License.\n",
            "        \n",
            "          An \"entity transaction\" is a transaction transferring control of an\n",
            "        organization, or substantially all assets of one, or subdividing an\n",
            "        organization, or merging organizations.  If propagation of a covered\n",
            "        work results from an entity transaction, each party to that\n",
            "        transaction who receives a copy of the work also receives whatever\n",
            "        licenses to the work the party's predecessor in interest had or could\n",
            "        give under the previous paragraph, plus a right to possession of the\n",
            "        Corresponding Source of the work from the predecessor in interest, if\n",
            "        the predecessor has it or can get it with reasonable efforts.\n",
            "        \n",
            "          You may not impose any further restrictions on the exercise of the\n",
            "        rights granted or affirmed under this License.  For example, you may\n",
            "        not impose a license fee, royalty, or other charge for exercise of\n",
            "        rights granted under this License, and you may not initiate litigation\n",
            "        (including a cross-claim or counterclaim in a lawsuit) alleging that\n",
            "        any patent claim is infringed by making, using, selling, offering for\n",
            "        sale, or importing the Program or any portion of it.\n",
            "        \n",
            "          11. Patents.\n",
            "        \n",
            "          A \"contributor\" is a copyright holder who authorizes use under this\n",
            "        License of the Program or a work on which the Program is based.  The\n",
            "        work thus licensed is called the contributor's \"contributor version\".\n",
            "        \n",
            "          A contributor's \"essential patent claims\" are all patent claims\n",
            "        owned or controlled by the contributor, whether already acquired or\n",
            "        hereafter acquired, that would be infringed by some manner, permitted\n",
            "        by this License, of making, using, or selling its contributor version,\n",
            "        but do not include claims that would be infringed only as a\n",
            "        consequence of further modification of the contributor version.  For\n",
            "        purposes of this definition, \"control\" includes the right to grant\n",
            "        patent sublicenses in a manner consistent with the requirements of\n",
            "        this License.\n",
            "        \n",
            "          Each contributor grants you a non-exclusive, worldwide, royalty-free\n",
            "        patent license under the contributor's essential patent claims, to\n",
            "        make, use, sell, offer for sale, import and otherwise run, modify and\n",
            "        propagate the contents of its contributor version.\n",
            "        \n",
            "          In the following three paragraphs, a \"patent license\" is any express\n",
            "        agreement or commitment, however denominated, not to enforce a patent\n",
            "        (such as an express permission to practice a patent or covenant not to\n",
            "        sue for patent infringement).  To \"grant\" such a patent license to a\n",
            "        party means to make such an agreement or commitment not to enforce a\n",
            "        patent against the party.\n",
            "        \n",
            "          If you convey a covered work, knowingly relying on a patent license,\n",
            "        and the Corresponding Source of the work is not available for anyone\n",
            "        to copy, free of charge and under the terms of this License, through a\n",
            "        publicly available network server or other readily accessible means,\n",
            "        then you must either (1) cause the Corresponding Source to be so\n",
            "        available, or (2) arrange to deprive yourself of the benefit of the\n",
            "        patent license for this particular work, or (3) arrange, in a manner\n",
            "        consistent with the requirements of this License, to extend the patent\n",
            "        license to downstream recipients.  \"Knowingly relying\" means you have\n",
            "        actual knowledge that, but for the patent license, your conveying the\n",
            "        covered work in a country, or your recipient's use of the covered work\n",
            "        in a country, would infringe one or more identifiable patents in that\n",
            "        country that you have reason to believe are valid.\n",
            "        \n",
            "          If, pursuant to or in connection with a single transaction or\n",
            "        arrangement, you convey, or propagate by procuring conveyance of, a\n",
            "        covered work, and grant a patent license to some of the parties\n",
            "        receiving the covered work authorizing them to use, propagate, modify\n",
            "        or convey a specific copy of the covered work, then the patent license\n",
            "        you grant is automatically extended to all recipients of the covered\n",
            "        work and works based on it.\n",
            "        \n",
            "          A patent license is \"discriminatory\" if it does not include within\n",
            "        the scope of its coverage, prohibits the exercise of, or is\n",
            "        conditioned on the non-exercise of one or more of the rights that are\n",
            "        specifically granted under this License.  You may not convey a covered\n",
            "        work if you are a party to an arrangement with a third party that is\n",
            "        in the business of distributing software, under which you make payment\n",
            "        to the third party based on the extent of your activity of conveying\n",
            "        the work, and under which the third party grants, to any of the\n",
            "        parties who would receive the covered work from you, a discriminatory\n",
            "        patent license (a) in connection with copies of the covered work\n",
            "        conveyed by you (or copies made from those copies), or (b) primarily\n",
            "        for and in connection with specific products or compilations that\n",
            "        contain the covered work, unless you entered into that arrangement,\n",
            "        or that patent license was granted, prior to 28 March 2007.\n",
            "        \n",
            "          Nothing in this License shall be construed as excluding or limiting\n",
            "        any implied license or other defenses to infringement that may\n",
            "        otherwise be available to you under applicable patent law.\n",
            "        \n",
            "          12. No Surrender of Others' Freedom.\n",
            "        \n",
            "          If conditions are imposed on you (whether by court order, agreement or\n",
            "        otherwise) that contradict the conditions of this License, they do not\n",
            "        excuse you from the conditions of this License.  If you cannot convey a\n",
            "        covered work so as to satisfy simultaneously your obligations under this\n",
            "        License and any other pertinent obligations, then as a consequence you may\n",
            "        not convey it at all.  For example, if you agree to terms that obligate you\n",
            "        to collect a royalty for further conveying from those to whom you convey\n",
            "        the Program, the only way you could satisfy both those terms and this\n",
            "        License would be to refrain entirely from conveying the Program.\n",
            "        \n",
            "          13. Use with the GNU Affero General Public License.\n",
            "        \n",
            "          Notwithstanding any other provision of this License, you have\n",
            "        permission to link or combine any covered work with a work licensed\n",
            "        under version 3 of the GNU Affero General Public License into a single\n",
            "        combined work, and to convey the resulting work.  The terms of this\n",
            "        License will continue to apply to the part which is the covered work,\n",
            "        but the special requirements of the GNU Affero General Public License,\n",
            "        section 13, concerning interaction through a network will apply to the\n",
            "        combination as such.\n",
            "        \n",
            "          14. Revised Versions of this License.\n",
            "        \n",
            "          The Free Software Foundation may publish revised and/or new versions of\n",
            "        the GNU General Public License from time to time.  Such new versions will\n",
            "        be similar in spirit to the present version, but may differ in detail to\n",
            "        address new problems or concerns.\n",
            "        \n",
            "          Each version is given a distinguishing version number.  If the\n",
            "        Program specifies that a certain numbered version of the GNU General\n",
            "        Public License \"or any later version\" applies to it, you have the\n",
            "        option of following the terms and conditions either of that numbered\n",
            "        version or of any later version published by the Free Software\n",
            "        Foundation.  If the Program does not specify a version number of the\n",
            "        GNU General Public License, you may choose any version ever published\n",
            "        by the Free Software Foundation.\n",
            "        \n",
            "          If the Program specifies that a proxy can decide which future\n",
            "        versions of the GNU General Public License can be used, that proxy's\n",
            "        public statement of acceptance of a version permanently authorizes you\n",
            "        to choose that version for the Program.\n",
            "        \n",
            "          Later license versions may give you additional or different\n",
            "        permissions.  However, no additional obligations are imposed on any\n",
            "        author or copyright holder as a result of your choosing to follow a\n",
            "        later version.\n",
            "        \n",
            "          15. Disclaimer of Warranty.\n",
            "        \n",
            "          THERE IS NO WARRANTY FOR THE PROGRAM, TO THE EXTENT PERMITTED BY\n",
            "        APPLICABLE LAW.  EXCEPT WHEN OTHERWISE STATED IN WRITING THE COPYRIGHT\n",
            "        HOLDERS AND/OR OTHER PARTIES PROVIDE THE PROGRAM \"AS IS\" WITHOUT WARRANTY\n",
            "        OF ANY KIND, EITHER EXPRESSED OR IMPLIED, INCLUDING, BUT NOT LIMITED TO,\n",
            "        THE IMPLIED WARRANTIES OF MERCHANTABILITY AND FITNESS FOR A PARTICULAR\n",
            "        PURPOSE.  THE ENTIRE RISK AS TO THE QUALITY AND PERFORMANCE OF THE PROGRAM\n",
            "        IS WITH YOU.  SHOULD THE PROGRAM PROVE DEFECTIVE, YOU ASSUME THE COST OF\n",
            "        ALL NECESSARY SERVICING, REPAIR OR CORRECTION.\n",
            "        \n",
            "          16. Limitation of Liability.\n",
            "        \n",
            "          IN NO EVENT UNLESS REQUIRED BY APPLICABLE LAW OR AGREED TO IN WRITING\n",
            "        WILL ANY COPYRIGHT HOLDER, OR ANY OTHER PARTY WHO MODIFIES AND/OR CONVEYS\n",
            "        THE PROGRAM AS PERMITTED ABOVE, BE LIABLE TO YOU FOR DAMAGES, INCLUDING ANY\n",
            "        GENERAL, SPECIAL, INCIDENTAL OR CONSEQUENTIAL DAMAGES ARISING OUT OF THE\n",
            "        USE OR INABILITY TO USE THE PROGRAM (INCLUDING BUT NOT LIMITED TO LOSS OF\n",
            "        DATA OR DATA BEING RENDERED INACCURATE OR LOSSES SUSTAINED BY YOU OR THIRD\n",
            "        PARTIES OR A FAILURE OF THE PROGRAM TO OPERATE WITH ANY OTHER PROGRAMS),\n",
            "        EVEN IF SUCH HOLDER OR OTHER PARTY HAS BEEN ADVISED OF THE POSSIBILITY OF\n",
            "        SUCH DAMAGES.\n",
            "        \n",
            "          17. Interpretation of Sections 15 and 16.\n",
            "        \n",
            "          If the disclaimer of warranty and limitation of liability provided\n",
            "        above cannot be given local legal effect according to their terms,\n",
            "        reviewing courts shall apply local law that most closely approximates\n",
            "        an absolute waiver of all civil liability in connection with the\n",
            "        Program, unless a warranty or assumption of liability accompanies a\n",
            "        copy of the Program in return for a fee.\n",
            "        \n",
            "                             END OF TERMS AND CONDITIONS\n",
            "        \n",
            "                    How to Apply These Terms to Your New Programs\n",
            "        \n",
            "          If you develop a new program, and you want it to be of the greatest\n",
            "        possible use to the public, the best way to achieve this is to make it\n",
            "        free software which everyone can redistribute and change under these terms.\n",
            "        \n",
            "          To do so, attach the following notices to the program.  It is safest\n",
            "        to attach them to the start of each source file to most effectively\n",
            "        state the exclusion of warranty; and each file should have at least\n",
            "        the \"copyright\" line and a pointer to where the full notice is found.\n",
            "        \n",
            "            <one line to give the program's name and a brief idea of what it does.>\n",
            "            Copyright (C) <year>  <name of author>\n",
            "        \n",
            "            This program is free software: you can redistribute it and/or modify\n",
            "            it under the terms of the GNU General Public License as published by\n",
            "            the Free Software Foundation, either version 3 of the License, or\n",
            "            (at your option) any later version.\n",
            "        \n",
            "            This program is distributed in the hope that it will be useful,\n",
            "            but WITHOUT ANY WARRANTY; without even the implied warranty of\n",
            "            MERCHANTABILITY or FITNESS FOR A PARTICULAR PURPOSE.  See the\n",
            "            GNU General Public License for more details.\n",
            "        \n",
            "            You should have received a copy of the GNU General Public License\n",
            "            along with this program.  If not, see <http://www.gnu.org/licenses/>.\n",
            "        \n",
            "        Also add information on how to contact you by electronic and paper mail.\n",
            "        \n",
            "          If the program does terminal interaction, make it output a short\n",
            "        notice like this when it starts in an interactive mode:\n",
            "        \n",
            "            <program>  Copyright (C) <year>  <name of author>\n",
            "            This program comes with ABSOLUTELY NO WARRANTY; for details type `show w'.\n",
            "            This is free software, and you are welcome to redistribute it\n",
            "            under certain conditions; type `show c' for details.\n",
            "        \n",
            "        The hypothetical commands `show w' and `show c' should show the appropriate\n",
            "        parts of the General Public License.  Of course, your program's commands\n",
            "        might be different; for a GUI interface, you would use an \"about box\".\n",
            "        \n",
            "          You should also get your employer (if you work as a programmer) or school,\n",
            "        if any, to sign a \"copyright disclaimer\" for the program, if necessary.\n",
            "        For more information on this, and how to apply and follow the GNU GPL, see\n",
            "        <http://www.gnu.org/licenses/>.\n",
            "        \n",
            "          The GNU General Public License does not permit incorporating your program\n",
            "        into proprietary programs.  If your program is a subroutine library, you\n",
            "        may consider it more useful to permit linking proprietary applications with\n",
            "        the library.  If this is what you want to do, use the GNU Lesser General\n",
            "        Public License instead of this License.  But first, please read\n",
            "        <http://www.gnu.org/philosophy/why-not-lgpl.html>.\n",
            "        \n",
            "        Name: libquadmath\n",
            "        Files: numpy.libs/libquadmath*.so\n",
            "        Description: dynamically linked to files compiled with gcc\n",
            "        Availability: https://gcc.gnu.org/git/?p=gcc.git;a=tree;f=libquadmath\n",
            "        License: LGPL-2.1-or-later\n",
            "        \n",
            "            GCC Quad-Precision Math Library\n",
            "            Copyright (C) 2010-2019 Free Software Foundation, Inc.\n",
            "            Written by Francois-Xavier Coudert  <fxcoudert@gcc.gnu.org>\n",
            "        \n",
            "            This file is part of the libquadmath library.\n",
            "            Libquadmath is free software; you can redistribute it and/or\n",
            "            modify it under the terms of the GNU Library General Public\n",
            "            License as published by the Free Software Foundation; either\n",
            "            version 2.1 of the License, or (at your option) any later version.\n",
            "        \n",
            "            Libquadmath is distributed in the hope that it will be useful,\n",
            "            but WITHOUT ANY WARRANTY; without even the implied warranty of\n",
            "            MERCHANTABILITY or FITNESS FOR A PARTICULAR PURPOSE.  See the GNU\n",
            "            Lesser General Public License for more details.\n",
            "            https://www.gnu.org/licenses/old-licenses/lgpl-2.1.html\n",
            "Location: /usr/local/lib/python3.10/dist-packages\n",
            "Requires: \n",
            "Required-by: accelerate, albucore, albumentations, altair, arviz, astropy, autograd, bigframes, blis, bokeh, Bottleneck, bqplot, chex, clarabel, cmdstanpy, contourpy, cudf-cu12, cufflinks, cupy-cuda12x, cvxpy, datascience, db-dtypes, dopamine_rl, ecos, flax, folium, geemap, gensim, geopandas, gym, h5py, holoviews, hyperopt, ibis-framework, imageio, imbalanced-learn, imgaug, jax, jaxlib, keras, librosa, lightgbm, matplotlib, matplotlib-venn, mizani, ml-dtypes, mlxtend, moviepy, music21, nibabel, numba, numexpr, opencv-contrib-python, opencv-python, opencv-python-headless, optax, orbax-checkpoint, osqp, pandas, pandas-gbq, pandas-stubs, patsy, plotnine, prophet, pyarrow, pycocotools, pyerfa, pymc, pyogrio, pytensor, python-louvain, qdldl, rmm-cu12, scikit-image, scikit-learn, scipy, scs, seaborn, shapely, sklearn-pandas, soxr, spacy, stanio, statsmodels, tables, tensorboard, tensorflow, tensorflow-datasets, tensorflow-hub, tensorflow-probability, tensorstore, thinc, tifffile, torchvision, transformers, wordcloud, xarray, xarray-einstats, xgboost, yellowbrick, yfinance\n"
          ]
        }
      ],
      "source": [
        "!pip show numpy"
      ]
    },
    {
      "cell_type": "markdown",
      "metadata": {
        "id": "KSNOrnoMHEjD"
      },
      "source": [
        "### 파이썬 오류 확인"
      ]
    },
    {
      "cell_type": "code",
      "execution_count": null,
      "metadata": {
        "id": "B8pmiTi5G8JX",
        "colab": {
          "base_uri": "https://localhost:8080/"
        },
        "outputId": "39050e0c-a392-49b0-a0e0-171da9485514"
      },
      "outputs": [
        {
          "output_type": "stream",
          "name": "stdout",
          "text": [
            "a < 9\n"
          ]
        }
      ],
      "source": [
        "# Syntax 오류 발생 예\n",
        "a = 1\n",
        "if a < 9:\n",
        "    print('a < 9')"
      ]
    },
    {
      "cell_type": "markdown",
      "source": [
        "### 파이썬 예외처리 방법"
      ],
      "metadata": {
        "id": "DJQhC7btE_L5"
      }
    },
    {
      "cell_type": "code",
      "execution_count": null,
      "metadata": {
        "id": "GJ1Y-0wMHXJd"
      },
      "outputs": [],
      "source": [
        "# 오류 예외처리\n",
        "while True:\n",
        "    try:\n",
        "        x = int(input('Please enter a number: '))\n",
        "        break\n",
        "\n",
        "    except ValueError:\n",
        "        print('Oops! That was no valid number. Try again...')\n",
        "\n",
        "print('-----')"
      ]
    },
    {
      "cell_type": "markdown",
      "metadata": {
        "id": "6Ef7gKpD8GGP"
      },
      "source": [
        "### [PC에서만 실행] 수업에 사용할 라이브러리 설치하기\n",
        "- PC 윈도우 명령프롬프트에서 실행한다. 코랩에서는 실행 안함\n",
        "- PC에서는 명령어 맨 앞 '!'를 제거하고 실행한다."
      ]
    },
    {
      "cell_type": "code",
      "source": [
        "!python -m pip install --upgrade pip"
      ],
      "metadata": {
        "id": "ViukrDAGDuPc"
      },
      "execution_count": null,
      "outputs": []
    },
    {
      "cell_type": "code",
      "execution_count": null,
      "metadata": {
        "id": "WnEwfA_x8GGQ"
      },
      "outputs": [],
      "source": [
        "!pip install numpy"
      ]
    },
    {
      "cell_type": "code",
      "execution_count": null,
      "metadata": {
        "id": "ZqJSQDet8GGQ"
      },
      "outputs": [],
      "source": [
        "!pip install pandas"
      ]
    },
    {
      "cell_type": "code",
      "execution_count": null,
      "metadata": {
        "id": "JtYjHD2D8GGQ"
      },
      "outputs": [],
      "source": [
        "!pip install matplotlib"
      ]
    },
    {
      "cell_type": "code",
      "execution_count": null,
      "metadata": {
        "id": "BRSzhspAC6J8"
      },
      "outputs": [],
      "source": [
        "!pip install seaborn"
      ]
    },
    {
      "cell_type": "code",
      "execution_count": null,
      "metadata": {
        "id": "8spH-HIwC6Sz"
      },
      "outputs": [],
      "source": [
        "!pip install ploty"
      ]
    },
    {
      "cell_type": "markdown",
      "metadata": {
        "id": "wl2PYxtB8GGR"
      },
      "source": [
        "----------"
      ]
    },
    {
      "cell_type": "markdown",
      "metadata": {
        "id": "T20_kqnwDKe2"
      },
      "source": [
        "## 2.파이썬 자료형과 연산자"
      ]
    },
    {
      "cell_type": "markdown",
      "source": [
        "### **[자료형]**"
      ],
      "metadata": {
        "id": "rxo68HToTgT0"
      }
    },
    {
      "cell_type": "markdown",
      "metadata": {
        "id": "GPQdotYg8GGR"
      },
      "source": [
        "### 파이썬 자료형 확인"
      ]
    },
    {
      "cell_type": "code",
      "execution_count": null,
      "metadata": {
        "id": "re9ioSIM8GGR",
        "colab": {
          "base_uri": "https://localhost:8080/"
        },
        "outputId": "371aeb89-a13c-4162-d85a-6a93c2634baa"
      },
      "outputs": [
        {
          "output_type": "stream",
          "name": "stdout",
          "text": [
            "123의 자료형: <class 'int'>\n",
            "123의 자료형: <class 'str'>\n",
            "[123]의 자료형: <class 'list'>\n",
            "(123,)의 자료형: <class 'tuple'>\n",
            "{'key': 123}의 자료형: <class 'dict'>\n",
            "{123}의 자료형: <class 'set'>\n",
            "True의 자료형: <class 'bool'>\n"
          ]
        }
      ],
      "source": [
        "d1 = 123\n",
        "d2 = '123'\n",
        "d3 = [123]\n",
        "d4 = (123,)\n",
        "d5 = {'key':123}\n",
        "d6 = {123}\n",
        "d7 = True\n",
        "\n",
        "print(f'{d1}의 자료형: {type(d1)}')\n",
        "print(f'{d2}의 자료형: {type(d2)}')\n",
        "print(f'{d3}의 자료형: {type(d3)}')\n",
        "print(f'{d4}의 자료형: {type(d4)}')\n",
        "print(f'{d5}의 자료형: {type(d5)}')\n",
        "print(f'{d6}의 자료형: {type(d6)}')\n",
        "print(f'{d7}의 자료형: {type(d7)}')"
      ]
    },
    {
      "cell_type": "markdown",
      "source": [
        "### [실습문제] 반복문을 이용하여 자료형 출력하기\n",
        "위 자료형을 아래 미션에 맞게 출력해 보세요."
      ],
      "metadata": {
        "id": "H7bSljnRIERc"
      }
    },
    {
      "cell_type": "code",
      "execution_count": null,
      "metadata": {
        "id": "gbzIvlUi8GGR",
        "scrolled": true,
        "colab": {
          "base_uri": "https://localhost:8080/"
        },
        "outputId": "e3a71f6e-7840-42c6-dcb5-1d6355d01215"
      },
      "outputs": [
        {
          "output_type": "stream",
          "name": "stdout",
          "text": [
            "123의 자료형: <class 'int'>\n",
            "123의 자료형: <class 'str'>\n",
            "[123]의 자료형: <class 'list'>\n",
            "(123,)의 자료형: <class 'tuple'>\n",
            "{'key': 123}의 자료형: <class 'dict'>\n",
            "{123}의 자료형: <class 'set'>\n",
            "True의 자료형: <class 'bool'>\n"
          ]
        }
      ],
      "source": [
        "# [미션] 리스트와 반복문을 이용하여 간단하게 나타내기\n",
        "datas = [123,'123',[123],(123,),{'key':123},{123},True]\n",
        "for i in datas :\n",
        "   print(f'{i}의 자료형: {type(i)}')\n"
      ]
    },
    {
      "cell_type": "code",
      "source": [
        "datas = [123,'123',[123],(123,),{'key':123},{123},True]\n",
        "for data in datas:\n",
        "  print(f'데이터 : {data}의 자료형은 : {type(data)}')"
      ],
      "metadata": {
        "colab": {
          "base_uri": "https://localhost:8080/"
        },
        "id": "n38H_zjn9Ewc",
        "outputId": "cc69b99b-6e5e-457e-888c-ef46558b1226"
      },
      "execution_count": null,
      "outputs": [
        {
          "output_type": "stream",
          "name": "stdout",
          "text": [
            "데이터 : 123의 자료형은 : <class 'int'>\n",
            "데이터 : 123의 자료형은 : <class 'str'>\n",
            "데이터 : [123]의 자료형은 : <class 'list'>\n",
            "데이터 : (123,)의 자료형은 : <class 'tuple'>\n",
            "데이터 : {'key': 123}의 자료형은 : <class 'dict'>\n",
            "데이터 : {123}의 자료형은 : <class 'set'>\n",
            "데이터 : True의 자료형은 : <class 'bool'>\n"
          ]
        }
      ]
    },
    {
      "cell_type": "code",
      "source": [
        "if isinstance(123, int):\n",
        "  print('123은 정수')\n",
        "else :\n",
        "  print('123은 정수가 아니야')\n"
      ],
      "metadata": {
        "colab": {
          "base_uri": "https://localhost:8080/"
        },
        "id": "vcf-h2fI96p_",
        "outputId": "a82bd718-4470-4e1d-8e03-5dde724175d0"
      },
      "execution_count": null,
      "outputs": [
        {
          "output_type": "stream",
          "name": "stdout",
          "text": [
            "123은 정수\n"
          ]
        }
      ]
    },
    {
      "cell_type": "code",
      "source": [
        "# [미션] isinstance()함수를 이용하여 데이터 타입 확인\n",
        "def get_datatype(data):\n",
        "    instance= {int:'정수', float:'실수', str:'문자열', bool:'불린',\n",
        "           list:'리스트', tuple:'튜플', dict:'딕셔너리', set:'집합' }\n",
        "    for key, value in instance.items():\n",
        "        if isinstance(data, key):\n",
        "            print(f'{data}는 {value} 형입니다.')\n",
        "\n",
        "for data in datas:\n",
        "    get_datatype(data)"
      ],
      "metadata": {
        "id": "PMDfoepfF7K4"
      },
      "execution_count": null,
      "outputs": []
    },
    {
      "cell_type": "markdown",
      "source": [
        "### [표준입출력]"
      ],
      "metadata": {
        "id": "Qv7p8JOYJdMf"
      }
    },
    {
      "cell_type": "markdown",
      "metadata": {
        "id": "EDFiaZyv8GGR"
      },
      "source": [
        "### 실습문제\n",
        "두 수를 입력 받아 덧셈, 뺄셈, 곱셈, 몫, 나머지를 출력하는 프로그램을 작성하세요\n"
      ]
    },
    {
      "cell_type": "code",
      "execution_count": null,
      "metadata": {
        "id": "a9sG7Q738GGS",
        "scrolled": true,
        "colab": {
          "base_uri": "https://localhost:8080/"
        },
        "outputId": "b06bdd70-2770-4954-8e0a-a5522653a63e"
      },
      "outputs": [
        {
          "output_type": "stream",
          "name": "stdout",
          "text": [
            "첫번째 숫자: 50\n",
            "두번째 숫자: 3\n",
            "------------------------------\n",
            " 덧셈 : 50 + 3 = 53\n",
            " 뺄셈:50 - 3 = 47\n",
            " 곱셈:50 * 3 = 150\n",
            " 몫 :50 // 3 = 16\n",
            " 나머지:50 % 3 = 2\n"
          ]
        }
      ],
      "source": [
        "num1 = input('첫번째 숫자: ')\n",
        "num2 = input('두번째 숫자: ')\n",
        "num1 = int(num1)\n",
        "num2 = int(num2)\n",
        "\n",
        "print('-'*30)\n",
        "print (f' 덧셈 : {num1} + {num2} = {num1 + num2}')\n",
        "print (f' 뺄셈:{num1} - {num2} = {num1 - num2}')\n",
        "print (f' 곱셈:{num1} * {num2} = {num1 * num2}')\n",
        "print (f' 몫 :{num1} // {num2} = {num1 // num2}')\n",
        "print (f' 나머지:{num1} % {num2} = {num1 % num2}')\n",
        "\n",
        "\n",
        "\n"
      ]
    },
    {
      "cell_type": "markdown",
      "metadata": {
        "id": "LqAbyRHs8GGS"
      },
      "source": [
        "### 실습문제: 시간 계산 프로그램\n",
        "속력과 거리를 입력 받아 시간을 계산하여 출력하는 프로그램을 만드세요!\n",
        "- 시간 = 거리 / 속력\n",
        "\n"
      ]
    },
    {
      "cell_type": "code",
      "execution_count": null,
      "metadata": {
        "id": "YwepfYt98GGS",
        "colab": {
          "base_uri": "https://localhost:8080/",
          "height": 273
        },
        "outputId": "5d061374-fe9e-4a77-9be6-1c29c79e2342"
      },
      "outputs": [
        {
          "output_type": "stream",
          "name": "stdout",
          "text": [
            "속력를 입력해 주세요(km/h) : 100\n",
            "거리를 입력해 주세요(km) : 400\n",
            "------------------------------\n"
          ]
        },
        {
          "output_type": "error",
          "ename": "KeyError",
          "evalue": "'0 '",
          "traceback": [
            "\u001b[0;31m---------------------------------------------------------------------------\u001b[0m",
            "\u001b[0;31mKeyError\u001b[0m                                  Traceback (most recent call last)",
            "\u001b[0;32m<ipython-input-26-602325e0b074>\u001b[0m in \u001b[0;36m<cell line: 6>\u001b[0;34m()\u001b[0m\n\u001b[1;32m      4\u001b[0m \u001b[0mtime\u001b[0m \u001b[0;34m=\u001b[0m \u001b[0mint\u001b[0m\u001b[0;34m(\u001b[0m\u001b[0mdistance\u001b[0m\u001b[0;34m)\u001b[0m \u001b[0;34m/\u001b[0m \u001b[0mint\u001b[0m\u001b[0;34m(\u001b[0m\u001b[0mvelocity\u001b[0m\u001b[0;34m)\u001b[0m\u001b[0;34m\u001b[0m\u001b[0;34m\u001b[0m\u001b[0m\n\u001b[1;32m      5\u001b[0m \u001b[0mprint\u001b[0m\u001b[0;34m(\u001b[0m\u001b[0;34m'-'\u001b[0m\u001b[0;34m*\u001b[0m\u001b[0;36m30\u001b[0m\u001b[0;34m)\u001b[0m\u001b[0;34m\u001b[0m\u001b[0;34m\u001b[0m\u001b[0m\n\u001b[0;32m----> 6\u001b[0;31m \u001b[0mprint\u001b[0m\u001b[0;34m(\u001b[0m \u001b[0;34m'속력 : {0 :< 6.2f} km/h'\u001b[0m\u001b[0;34m.\u001b[0m\u001b[0mformat\u001b[0m\u001b[0;34m(\u001b[0m \u001b[0mfloat\u001b[0m\u001b[0;34m(\u001b[0m \u001b[0mvelocity\u001b[0m \u001b[0;34m)\u001b[0m \u001b[0;34m)\u001b[0m \u001b[0;34m)\u001b[0m\u001b[0;34m\u001b[0m\u001b[0;34m\u001b[0m\u001b[0m\n\u001b[0m\u001b[1;32m      7\u001b[0m \u001b[0mprint\u001b[0m\u001b[0;34m(\u001b[0m \u001b[0;34m'거리 :  {0 :< 6.2f} km'\u001b[0m\u001b[0;34m.\u001b[0m\u001b[0mformat\u001b[0m\u001b[0;34m(\u001b[0m \u001b[0mfloat\u001b[0m\u001b[0;34m(\u001b[0m \u001b[0mdistance\u001b[0m \u001b[0;34m)\u001b[0m \u001b[0;34m)\u001b[0m \u001b[0;34m)\u001b[0m\u001b[0;34m\u001b[0m\u001b[0;34m\u001b[0m\u001b[0m\n\u001b[1;32m      8\u001b[0m \u001b[0mprint\u001b[0m\u001b[0;34m(\u001b[0m \u001b[0;34m'시간 : {0 :< 6.2f} h'\u001b[0m\u001b[0;34m.\u001b[0m\u001b[0mformat\u001b[0m\u001b[0;34m(\u001b[0m \u001b[0mtime\u001b[0m \u001b[0;34m)\u001b[0m \u001b[0;34m)\u001b[0m\u001b[0;34m\u001b[0m\u001b[0;34m\u001b[0m\u001b[0m\n",
            "\u001b[0;31mKeyError\u001b[0m: '0 '"
          ]
        }
      ],
      "source": [
        "velocity = input('속력를 입력해 주세요(km/h) : ')\n",
        "distance = input('거리를 입력해 주세요(km) : ')\n",
        "\n",
        "time = int(distance) / int(velocity)\n",
        "print('-'*30)\n",
        "print( '속력 : {0 :< 6.2f} km/h'.format( float( velocity ) ) )\n",
        "print( '거리 :  {0 :< 6.2f} km'.format( float( distance ) ) )\n",
        "print( '시간 : {0 :< 6.2f} h'.format( time ) )"
      ]
    },
    {
      "cell_type": "markdown",
      "metadata": {
        "id": "sHIxGA0xLj0C"
      },
      "source": [
        "- eval()함수 사용하여 문자열을 계산할 수 있다"
      ]
    },
    {
      "cell_type": "code",
      "execution_count": null,
      "metadata": {
        "id": "gvVxuLjX8GGS"
      },
      "outputs": [],
      "source": [
        "# eval()함수 사용\n",
        "time = eval(f'{distance} / {velocity}')\n",
        "print(time)"
      ]
    },
    {
      "cell_type": "markdown",
      "metadata": {
        "id": "tECEWKan8GGS"
      },
      "source": [
        "### 실습문제 : 정수 합 구하기\n",
        "아래와 같이 정수 n을 입력 받아, a + aa + aaa의 결과 값을 구하는 프로그램을 작성하세요"
      ]
    },
    {
      "cell_type": "code",
      "execution_count": null,
      "metadata": {
        "id": "a04GPnn98GGS",
        "scrolled": true,
        "colab": {
          "base_uri": "https://localhost:8080/"
        },
        "outputId": "f5c1b4e8-54fe-4309-b6b1-64acaddde0c8"
      },
      "outputs": [
        {
          "output_type": "stream",
          "name": "stdout",
          "text": [
            "정수를 입력하세요: 4\n",
            " 4 + 44 + 444 = 492\n"
          ]
        }
      ],
      "source": [
        "a = int(input('정수를 입력하세요: ' ))\n",
        "\n",
        "aa = int(f\"{a}{a}\")\n",
        "aaa = int(f\"{a}{a}{a}\")\n",
        "\n",
        "result = a + aa + aaa\n",
        "\n",
        "print(f' {a} + {aa} + {aaa} = {result}')\n",
        "\n"
      ]
    },
    {
      "cell_type": "code",
      "source": [
        "a = input('숫자를 입력하세요: ')\n",
        "k = f'{a} + {aa} + {aaa}'\n",
        "print(f\"{a} + {aa} + {aaa} = {eval(f'{a} + {aa} + {aaa}')}\")\n",
        "\n"
      ],
      "metadata": {
        "colab": {
          "base_uri": "https://localhost:8080/"
        },
        "id": "wSUnA-QaUROg",
        "outputId": "33c5f293-7527-437e-8d0c-81a26712f5d4"
      },
      "execution_count": null,
      "outputs": [
        {
          "output_type": "stream",
          "name": "stdout",
          "text": [
            "숫자를 입력하세요: 7\n",
            "7 + 44 + 444 = 495\n"
          ]
        }
      ]
    },
    {
      "cell_type": "markdown",
      "source": [
        "### [문자와 문자열]"
      ],
      "metadata": {
        "id": "SHkqIiXbJXrR"
      }
    },
    {
      "cell_type": "markdown",
      "source": [
        "### 실습문제 : 문자열 거꾸로 출력하기"
      ],
      "metadata": {
        "id": "kc4LrgAHJw4f"
      }
    },
    {
      "cell_type": "code",
      "source": [
        "\n",
        "s = input('문자열을 입력하세요: ')\n",
        "print(s[::-1])"
      ],
      "metadata": {
        "id": "_QpSs-GCJvyH",
        "colab": {
          "base_uri": "https://localhost:8080/"
        },
        "outputId": "d9b7451e-4c71-439e-9841-a38e8d2bfc14"
      },
      "execution_count": null,
      "outputs": [
        {
          "output_type": "stream",
          "name": "stdout",
          "text": [
            "문자열을 입력하세요: 사랑해요 파이썬!\n",
            "!썬이파 요해랑사\n"
          ]
        }
      ]
    },
    {
      "cell_type": "markdown",
      "source": [
        "### 실습문제: 간단 챗봇 만들기\n"
      ],
      "metadata": {
        "id": "t1KHQyvnJrj3"
      }
    },
    {
      "cell_type": "code",
      "source": [
        "# 간단한 챗봇 만들기\n",
        "print('안녕하세요~')\n",
        "\n",
        "name = input('당신의 이름은 뭐예요? ')\n",
        "print(f'만나서 반갑습니다. {name}님')\n",
        "print(f'{name}님의 이름의 길이는 다음과 같습니다.: {len(name)}')\n",
        "age = input(f'{name}님 나이는 어떻게 되나요? ')\n",
        "print(f'내년에는 {int(age)+1}세가 되시는군요! ')\n",
        "\n",
        "\n",
        "\n"
      ],
      "metadata": {
        "id": "Fg-QYkDPJr14",
        "colab": {
          "base_uri": "https://localhost:8080/"
        },
        "outputId": "a1abade3-77c8-4c18-a22c-3548d1838e60"
      },
      "execution_count": null,
      "outputs": [
        {
          "output_type": "stream",
          "name": "stdout",
          "text": [
            "안녕하세요~\n",
            "당신으 이름은 뭐예요? 아이유\n",
            "만나서 반갑습니다. 아이유님\n",
            "아이유님의 이름의 길이는 다음과 같습니다.: 3\n",
            "아이유님 나이는 어떻게 되나요? 31\n",
            "내년에는 32세가 되시는군요! \n"
          ]
        }
      ]
    },
    {
      "cell_type": "markdown",
      "metadata": {
        "id": "Hb6l5EjLQB2m"
      },
      "source": [
        "### 실습문제 :  구글TTS(gTTS) 사용하여 음성 출력하기\n",
        "TTS : Text to Speech"
      ]
    },
    {
      "cell_type": "markdown",
      "source": [],
      "metadata": {
        "id": "MKZzJ2iCMu9b"
      }
    },
    {
      "cell_type": "code",
      "execution_count": null,
      "metadata": {
        "id": "-eY--f6MPwTf",
        "colab": {
          "base_uri": "https://localhost:8080/"
        },
        "outputId": "95fa1f73-11da-4abc-c79c-42bcad45be89"
      },
      "outputs": [
        {
          "output_type": "stream",
          "name": "stdout",
          "text": [
            "Collecting gTTS\n",
            "  Downloading gTTS-2.5.3-py3-none-any.whl.metadata (4.1 kB)\n",
            "Requirement already satisfied: requests<3,>=2.27 in /usr/local/lib/python3.10/dist-packages (from gTTS) (2.32.3)\n",
            "Requirement already satisfied: click<8.2,>=7.1 in /usr/local/lib/python3.10/dist-packages (from gTTS) (8.1.7)\n",
            "Requirement already satisfied: charset-normalizer<4,>=2 in /usr/local/lib/python3.10/dist-packages (from requests<3,>=2.27->gTTS) (3.3.2)\n",
            "Requirement already satisfied: idna<4,>=2.5 in /usr/local/lib/python3.10/dist-packages (from requests<3,>=2.27->gTTS) (3.10)\n",
            "Requirement already satisfied: urllib3<3,>=1.21.1 in /usr/local/lib/python3.10/dist-packages (from requests<3,>=2.27->gTTS) (2.2.3)\n",
            "Requirement already satisfied: certifi>=2017.4.17 in /usr/local/lib/python3.10/dist-packages (from requests<3,>=2.27->gTTS) (2024.8.30)\n",
            "Downloading gTTS-2.5.3-py3-none-any.whl (29 kB)\n",
            "Installing collected packages: gTTS\n",
            "Successfully installed gTTS-2.5.3\n"
          ]
        }
      ],
      "source": [
        "# 구글 tts 프로그램\n",
        "!pip install gTTS"
      ]
    },
    {
      "cell_type": "code",
      "execution_count": null,
      "metadata": {
        "id": "O_xqpl0pPx6k",
        "colab": {
          "base_uri": "https://localhost:8080/",
          "height": 74
        },
        "outputId": "8d45531d-6b73-422c-849b-ff779f5541ff"
      },
      "outputs": [
        {
          "output_type": "display_data",
          "data": {
            "text/plain": [
              "<IPython.lib.display.Audio object>"
            ],
            "text/html": [
              "\n",
              "                <audio  controls=\"controls\" autoplay=\"autoplay\">\n",
              "                    <source src=\"data:audio/x-wav;base64,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\" type=\"audio/x-wav\" />\n",
              "                    Your browser does not support the audio element.\n",
              "                </audio>\n",
              "              "
            ]
          },
          "metadata": {}
        }
      ],
      "source": [
        "# 영어 출력\n",
        "from gtts import gTTS\n",
        "from IPython.display import Audio\n",
        "\n",
        "eng_wav = gTTS('Hello World!')\n",
        "eng_wav.save('eng.wav')\n",
        "\n",
        "display(Audio('eng.wav', autoplay=True))"
      ]
    },
    {
      "cell_type": "code",
      "execution_count": null,
      "metadata": {
        "id": "inyZATWlP3Cp",
        "colab": {
          "base_uri": "https://localhost:8080/",
          "height": 74
        },
        "outputId": "b95bf263-1db7-48e0-e127-cbc73fdd70e3"
      },
      "outputs": [
        {
          "output_type": "display_data",
          "data": {
            "text/plain": [
              "<IPython.lib.display.Audio object>"
            ],
            "text/html": [
              "\n",
              "                <audio  controls=\"controls\" autoplay=\"autoplay\">\n",
              "                    <source src=\"data:audio/x-wav;base64,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\" type=\"audio/x-wav\" />\n",
              "                    Your browser does not support the audio element.\n",
              "                </audio>\n",
              "              "
            ]
          },
          "metadata": {}
        }
      ],
      "source": [
        "# 한글 출력\n",
        "from gtts import gTTS\n",
        "from IPython.display import Audio\n",
        "\n",
        "kor_wav = gTTS('안녕하세요! ', lang = 'ko')\n",
        "kor_wav.save('kor.wav')\n",
        "\n",
        "display(Audio('kor.wav', autoplay=True))"
      ]
    },
    {
      "cell_type": "code",
      "source": [
        "from gtts import gTTS\n",
        "from IPython.display import Audio, display\n",
        "import os\n",
        "import time\n",
        "\n",
        "def text_to_speech_from_file(filename):\n",
        "    with open(filename, 'r', encoding='utf-8') as file:\n",
        "        for index, line in enumerate(file):\n",
        "            line = line.strip()\n",
        "            if line:  # 빈 줄은 건너뜀\n",
        "                # 텍스트를 음성으로 변환\n",
        "                tts = gTTS(text=line, lang='ko')\n",
        "                audio_file = f\"temp_audio_{index}.mp3\"\n",
        "\n",
        "                # 음성 파일 저장\n",
        "                tts.save(audio_file)\n",
        "\n",
        "                # 음성 파일을 재생 (IPython.display.Audio 사용)\n",
        "                display(Audio(audio_file, autoplay=True))\n",
        "\n",
        "                # 음성이 끝날 때까지 잠시 대기\n",
        "                time.sleep(2)  # 음성 길이에 따라 조절 가능\n",
        "\n",
        "                # 파일 삭제\n",
        "                os.remove(audio_file)\n",
        "\n",
        "                if index > 10 : # 파일이 10개 이상이 되면 정지하도록 설정\n",
        "                    break\n",
        "\n",
        "# 텍스트 파일 경로를 지정하세요.\n",
        "text_to_speech_from_file('사건의지평선.txt')\n"
      ],
      "metadata": {
        "id": "VdNYWRldOWow",
        "colab": {
          "base_uri": "https://localhost:8080/",
          "height": 700
        },
        "outputId": "23b6e0d6-f813-446b-9272-af16c37e29d8"
      },
      "execution_count": 37,
      "outputs": [
        {
          "output_type": "display_data",
          "data": {
            "text/plain": [
              "<IPython.lib.display.Audio object>"
            ],
            "text/html": [
              "\n",
              "                <audio  controls=\"controls\" autoplay=\"autoplay\">\n",
              "                    <source src=\"data:audio/mpeg;base64,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\" type=\"audio/mpeg\" />\n",
              "                    Your browser does not support the audio element.\n",
              "                </audio>\n",
              "              "
            ]
          },
          "metadata": {}
        },
        {
          "output_type": "display_data",
          "data": {
            "text/plain": [
              "<IPython.lib.display.Audio object>"
            ],
            "text/html": [
              "\n",
              "                <audio  controls=\"controls\" autoplay=\"autoplay\">\n",
              "                    <source src=\"data:audio/mpeg;base64,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\" type=\"audio/mpeg\" />\n",
              "                    Your browser does not support the audio element.\n",
              "                </audio>\n",
              "              "
            ]
          },
          "metadata": {}
        },
        {
          "output_type": "display_data",
          "data": {
            "text/plain": [
              "<IPython.lib.display.Audio object>"
            ],
            "text/html": [
              "\n",
              "                <audio  controls=\"controls\" autoplay=\"autoplay\">\n",
              "                    <source src=\"data:audio/mpeg;base64,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\" type=\"audio/mpeg\" />\n",
              "                    Your browser does not support the audio element.\n",
              "                </audio>\n",
              "              "
            ]
          },
          "metadata": {}
        },
        {
          "output_type": "display_data",
          "data": {
            "text/plain": [
              "<IPython.lib.display.Audio object>"
            ],
            "text/html": [
              "\n",
              "                <audio  controls=\"controls\" autoplay=\"autoplay\">\n",
              "                    <source src=\"data:audio/mpeg;base64,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\" type=\"audio/mpeg\" />\n",
              "                    Your browser does not support the audio element.\n",
              "                </audio>\n",
              "              "
            ]
          },
          "metadata": {}
        },
        {
          "output_type": "display_data",
          "data": {
            "text/plain": [
              "<IPython.lib.display.Audio object>"
            ],
            "text/html": [
              "\n",
              "                <audio  controls=\"controls\" autoplay=\"autoplay\">\n",
              "                    <source src=\"data:audio/mpeg;base64,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\" type=\"audio/mpeg\" />\n",
              "                    Your browser does not support the audio element.\n",
              "                </audio>\n",
              "              "
            ]
          },
          "metadata": {}
        },
        {
          "output_type": "display_data",
          "data": {
            "text/plain": [
              "<IPython.lib.display.Audio object>"
            ],
            "text/html": [
              "\n",
              "                <audio  controls=\"controls\" autoplay=\"autoplay\">\n",
              "                    <source src=\"data:audio/mpeg;base64,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\" type=\"audio/mpeg\" />\n",
              "                    Your browser does not support the audio element.\n",
              "                </audio>\n",
              "              "
            ]
          },
          "metadata": {}
        },
        {
          "output_type": "display_data",
          "data": {
            "text/plain": [
              "<IPython.lib.display.Audio object>"
            ],
            "text/html": [
              "\n",
              "                <audio  controls=\"controls\" autoplay=\"autoplay\">\n",
              "                    <source src=\"data:audio/mpeg;base64,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\" type=\"audio/mpeg\" />\n",
              "                    Your browser does not support the audio element.\n",
              "                </audio>\n",
              "              "
            ]
          },
          "metadata": {}
        },
        {
          "output_type": "display_data",
          "data": {
            "text/plain": [
              "<IPython.lib.display.Audio object>"
            ],
            "text/html": [
              "\n",
              "                <audio  controls=\"controls\" autoplay=\"autoplay\">\n",
              "                    <source src=\"data:audio/mpeg;base64,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\" type=\"audio/mpeg\" />\n",
              "                    Your browser does not support the audio element.\n",
              "                </audio>\n",
              "              "
            ]
          },
          "metadata": {}
        },
        {
          "output_type": "display_data",
          "data": {
            "text/plain": [
              "<IPython.lib.display.Audio object>"
            ],
            "text/html": [
              "\n",
              "                <audio  controls=\"controls\" autoplay=\"autoplay\">\n",
              "                    <source src=\"data:audio/mpeg;base64,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\" type=\"audio/mpeg\" />\n",
              "                    Your browser does not support the audio element.\n",
              "                </audio>\n",
              "              "
            ]
          },
          "metadata": {}
        },
        {
          "output_type": "display_data",
          "data": {
            "text/plain": [
              "<IPython.lib.display.Audio object>"
            ],
            "text/html": [
              "\n",
              "                <audio  controls=\"controls\" autoplay=\"autoplay\">\n",
              "                    <source src=\"data:audio/mpeg;base64,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\" type=\"audio/mpeg\" />\n",
              "                    Your browser does not support the audio element.\n",
              "                </audio>\n",
              "              "
            ]
          },
          "metadata": {}
        },
        {
          "output_type": "display_data",
          "data": {
            "text/plain": [
              "<IPython.lib.display.Audio object>"
            ],
            "text/html": [
              "\n",
              "                <audio  controls=\"controls\" autoplay=\"autoplay\">\n",
              "                    <source src=\"data:audio/mpeg;base64,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\" type=\"audio/mpeg\" />\n",
              "                    Your browser does not support the audio element.\n",
              "                </audio>\n",
              "              "
            ]
          },
          "metadata": {}
        },
        {
          "output_type": "display_data",
          "data": {
            "text/plain": [
              "<IPython.lib.display.Audio object>"
            ],
            "text/html": [
              "\n",
              "                <audio  controls=\"controls\" autoplay=\"autoplay\">\n",
              "                    <source src=\"data:audio/mpeg;base64,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\" type=\"audio/mpeg\" />\n",
              "                    Your browser does not support the audio element.\n",
              "                </audio>\n",
              "              "
            ]
          },
          "metadata": {}
        }
      ]
    },
    {
      "cell_type": "markdown",
      "metadata": {
        "id": "3UTLuSAp8GGY"
      },
      "source": [
        "--------"
      ]
    },
    {
      "cell_type": "markdown",
      "metadata": {
        "id": "fmU7O8WS8GGY"
      },
      "source": [
        "### **[연산자]**"
      ]
    },
    {
      "cell_type": "markdown",
      "metadata": {
        "id": "eRCyhgwS8GGY"
      },
      "source": [
        "### 실습문제 :  동전 교환 프로그램\n",
        "동전교환 프로그램을 작성하세요"
      ]
    },
    {
      "cell_type": "code",
      "execution_count": 40,
      "metadata": {
        "id": "g8A7ErL78GGY",
        "colab": {
          "base_uri": "https://localhost:8080/"
        },
        "outputId": "ac013ea2-b6f4-4f18-e05d-0d4b6c4d0918"
      },
      "outputs": [
        {
          "output_type": "stream",
          "name": "stdout",
          "text": [
            "---동전교환기 프로그램을 작동합니다.---\n",
            "금액을 입력하세요: 4321\n",
            "------------------------------\n",
            "500원짜리 동전 ==> 8개\n",
            "100원짜리 동전 ==> 3개\n",
            "50원짜리 동전 ==> 0개\n",
            "10원짜리 동전 ==> 2개\n",
            "잔돈 ==>  1원\n"
          ]
        }
      ],
      "source": [
        "# 키보드로부터 금액 입력 받기\n",
        "print('---동전교환기 프로그램을 작동합니다.---')\n",
        "money = int( input('금액을 입력하세요: '))\n",
        "print('-'*30)\n",
        "\n",
        "print(f'500원짜리 동전 ==> {money//500}개')\n",
        "money %= 500\n",
        "print(f'100원짜리 동전 ==> {money//100}개')\n",
        "money %= 100\n",
        "print(f'50원짜리 동전 ==> {money//50}개')\n",
        "money %= 50\n",
        "print(f'10원짜리 동전 ==> {money//10}개')\n",
        "money %= 10\n",
        "print(f'잔돈 ==>  {money}원')\n"
      ]
    },
    {
      "cell_type": "code",
      "source": [
        "print('---동전교환기 프로그램을 작동합니다.---')\n",
        "money = int( input('금액을 입력하세요: '))\n",
        "print('-'*30)\n",
        "\n",
        "coins = [500, 100, 50, 10]\n",
        "for i in coins:\n",
        "  print(f'{i}원짜리 동전 ==> {money//i}개')\n",
        "  money %= i\n",
        "print(f'잔돈 ==>  {money}원')\n",
        "\n"
      ],
      "metadata": {
        "colab": {
          "base_uri": "https://localhost:8080/"
        },
        "id": "2-lVqLBxj38H",
        "outputId": "e912fc09-1883-40e3-8416-8ec5a5eaceb9"
      },
      "execution_count": 43,
      "outputs": [
        {
          "output_type": "stream",
          "name": "stdout",
          "text": [
            "---동전교환기 프로그램을 작동합니다.---\n",
            "금액을 입력하세요: 4321\n",
            "------------------------------\n",
            "500원짜리 동전 ==> 8개\n",
            "100원짜리 동전 ==> 3개\n",
            "50원짜리 동전 ==> 0개\n",
            "10원짜리 동전 ==> 2개\n",
            "잔돈 ==>  1원\n"
          ]
        }
      ]
    },
    {
      "cell_type": "markdown",
      "source": [
        "### 실습문제 : 비교 연산자를 이용한 상품 필터링하기\n",
        "아래 상품 딕셔너리에서 가격이 1000 이하인 상품을 필터링하고 상품과 해당 가격을 출력하시오."
      ],
      "metadata": {
        "id": "7GL-zafcQwDq"
      }
    },
    {
      "cell_type": "code",
      "source": [
        "# 상품 가격을 가진 사전\n",
        "products = { \"apple\": 1000, \"banana\": 800, \"cherry\": 1500,\n",
        "            \"date\": 1200, \"elderberry\": 2000 }\n",
        "\n",
        "# 가격이 1000 이하인 상품 필터링\n",
        "print('가격이 1000 이하인 상품: ')\n",
        "print('-' * 30)\n",
        "\n",
        "for key, value in products.items(): # for a in products ==> 리스트에서 키만을 불러오게 됨.\n",
        "  if value <= 1000:\n",
        "    print(f'상품명: {key}, 가격: {value}')"
      ],
      "metadata": {
        "id": "78IAx7VkQwW_",
        "colab": {
          "base_uri": "https://localhost:8080/"
        },
        "outputId": "a3ba0f3c-fb0b-4e87-9d5c-6c2c390873b5"
      },
      "execution_count": 44,
      "outputs": [
        {
          "output_type": "stream",
          "name": "stdout",
          "text": [
            "가격이 1000 이하인 상품: \n",
            "------------------------------\n",
            "상품명: apple, 가격: 1000\n",
            "상품명: banana, 가격: 800\n"
          ]
        }
      ]
    },
    {
      "cell_type": "markdown",
      "metadata": {
        "id": "0SWp1LN08GGY"
      },
      "source": [
        "------"
      ]
    },
    {
      "cell_type": "markdown",
      "metadata": {
        "id": "x4FIhV_y8GGZ"
      },
      "source": [
        "## 3.조건문과 반목문으로 흐름 제어하기"
      ]
    },
    {
      "cell_type": "markdown",
      "metadata": {
        "id": "LPe_skHf8GGZ"
      },
      "source": [
        "### **[조건문]**"
      ]
    },
    {
      "cell_type": "markdown",
      "source": [
        "#### 조건문 구조 4개"
      ],
      "metadata": {
        "id": "HIFAD_kqX1uL"
      }
    },
    {
      "cell_type": "code",
      "source": [
        "# 조건식1: if 조건식\n",
        "a = 99\n",
        "if a < 100 :\n",
        "    print('a는 100보다 작군요')"
      ],
      "metadata": {
        "id": "d9jDMOjbX4hu"
      },
      "execution_count": null,
      "outputs": []
    },
    {
      "cell_type": "code",
      "source": [
        "# 조건식2: if ~ else\n",
        "a = 200\n",
        "if a > 100:\n",
        "    print('a는 100보다 크군요')\n",
        "else:\n",
        "    print('a는 100보다 크지 않군요')"
      ],
      "metadata": {
        "id": "9ehdd_YIYEus"
      },
      "execution_count": null,
      "outputs": []
    },
    {
      "cell_type": "code",
      "source": [
        "# 조건문3: 중첩 if - 조건문 안에 조건문\n",
        "a = 200\n",
        "if a > 100:\n",
        "    if a > 200 :\n",
        "        print('a는 200보다 크군요')\n",
        "    else:\n",
        "        print('a는 200보다 크거나 같군요')\n",
        "else:\n",
        "    print('a는 100보다 크지 않군요')"
      ],
      "metadata": {
        "id": "nOi_cwzoYE2u"
      },
      "execution_count": null,
      "outputs": []
    },
    {
      "cell_type": "code",
      "source": [
        "# 조건문4: 다중 조건문\n",
        "pocket = ['paper', 'handphone']\n",
        "card = True\n",
        "\n",
        "if 'money' in pocket:\n",
        "    print('택시를 타고 가라')\n",
        "elif card:\n",
        "    print('택시를 타고 가라')\n",
        "else:\n",
        "    print('걸어가라')"
      ],
      "metadata": {
        "id": "T_P0EQFeYFBE"
      },
      "execution_count": null,
      "outputs": []
    },
    {
      "cell_type": "markdown",
      "metadata": {
        "id": "Io13oQKLhgph"
      },
      "source": [
        "#### 조건부 표현식"
      ]
    },
    {
      "cell_type": "code",
      "execution_count": null,
      "metadata": {
        "id": "h0V6WqWchnTA"
      },
      "outputs": [],
      "source": [
        "score = int(input('점수를 입력하세요: '))\n",
        "message = \"success!\" if score >=60 else \"failure!\"\n",
        "print(message)"
      ]
    },
    {
      "cell_type": "markdown",
      "metadata": {
        "id": "Ar6JKwtB8GGZ"
      },
      "source": [
        "#### 실습문제 : 짝수 홀수 판별하기\n",
        "숫자를 입력 받아 짝수/홀수를 판별하는 코드를 만들어 보세요."
      ]
    },
    {
      "cell_type": "code",
      "execution_count": 46,
      "metadata": {
        "id": "09w2BCcN8GGZ",
        "colab": {
          "base_uri": "https://localhost:8080/"
        },
        "outputId": "c20ca4fb-3943-4f6a-9fde-6050c2a7c30a"
      },
      "outputs": [
        {
          "output_type": "stream",
          "name": "stdout",
          "text": [
            "숫자를 입력해 주세요: 43\n",
            "------------------------------\n",
            "입력된 수 : 43 ==> 홀수\n"
          ]
        }
      ],
      "source": [
        "x = int(input('숫자를 입력해 주세요: '))\n",
        "print('-' * 30)\n",
        "if x % 2 == 0:\n",
        "    print(f'입력된 수 : {x} ==> 짝수')\n",
        "else:\n",
        "  print(f'입력된 수 : {x} ==> 홀수')\n",
        "# 다른 방식\n",
        "\n",
        "print(f'입력된 수 : {x} ==> 짝수') if x % 2 == 0 else print(f'입력된 수 : {x} ==> 홀수')\n",
        "\n",
        "# 다른 코드\n",
        "x = int(input('숫자를 입력해 주세요: '))\n",
        "print('-' * 30)\n",
        "\n",
        "msg = \"짝수\" if x%2 == 0 else \"홀수\"\n",
        "print(f'입력 {x} ==> {msg}')\n"
      ]
    },
    {
      "cell_type": "markdown",
      "metadata": {
        "id": "3SDdg7Aeg7MW"
      },
      "source": [
        "### 실습문제 : 커피 자판기 조건문\n",
        "아래 조건을 만족하는 커피 자동주문 머신을 만들어보세요.<br><br>\n",
        "[커피 자동주문 머신]<br>\n",
        "친구들과 현금 커피 자동주문 머신 앞에서\n",
        " - 아메리카노 2잔과 카페라테 2잔 카푸치노 1잔을 주문하였다.\n",
        " - 아메리카노 한잔에 2500원이고\n",
        " - 카페라테는 한잔에 3000원\n",
        " - 카푸치노는 한잔에 3000원이다.\n",
        "커피 종류와 잔 수를 결정한 후 현금 15000원을 투입하고 잔돈을 1000원 받았다."
      ]
    },
    {
      "cell_type": "code",
      "execution_count": null,
      "metadata": {
        "id": "BZlOMJHKg7dN"
      },
      "outputs": [],
      "source": [
        "menu = '''[커피 자동주문 머신 메뉴]\n",
        "------------------------------\n",
        "-아메리카노는 2500원\n",
        "-카레라떼는 3000원\n",
        "-카푸치노는 3000원\n",
        "입니다. 원하시는 커피종류와 잔수를 입력하세요.\n",
        "------------------------------'''\n",
        "print(menu)\n",
        "coffee1 = int(input(\"아메리카노 몇잔?\"))\n",
        "coffee2 = int(input(\"카페라떼 몇잔?\"))\n",
        "coffee3 = int(input(\"카푸치노 몇잔?\"))\n",
        "print(f'지불할 총 금액은 {coffee1 + coffee2 + coffee3} 원 입니다.')\n",
        "coin = int(input('돈을 넣어주세요~ '))\n",
        "if coin - (coffee1*2500 + coffee2*3000 + coffee3*3000) >=0\n",
        "print(f'거스름돈은 {change}원 입니다.')"
      ]
    },
    {
      "cell_type": "code",
      "source": [
        "menu = '''[커피 자동주문 머신 메뉴]\n",
        "------------------------------\n",
        "-아메리카노는 2500원\n",
        "-카레라떼는 3000원\n",
        "-카푸치노는 3000원\n",
        "입니다. 원하시는 커피종류와 잔수를 입력하세요.\n",
        "------------------------------'''\n",
        "print(menu)\n",
        "coffee1 = int(input(\"아메리카노 몇잔?\"))\n",
        "coffee2 = int(input(\"카페라떼 몇잔?\"))\n",
        "coffee3 = int(input(\"카푸치노 몇잔?\"))\n",
        "sum = coffee1*2500 + coffee2*3000 + coffee3*3000\n",
        "print(f'지불할 총 금액은 {sum} 원 입니다.')\n",
        "coin = int(input(\"돈을 넣어주세요~: \"))\n",
        "change = coin - sum\n",
        "if change < 0:\n",
        "    print(f'입력한 금액이 부족합니다.  {change*-1} 원을 더 넣어주세요.')\n",
        "else:\n",
        "    print(f'거스름돈은  {change} 원 입니다')"
      ],
      "metadata": {
        "colab": {
          "base_uri": "https://localhost:8080/"
        },
        "id": "qvWC82hJsn_e",
        "outputId": "9856ec77-1819-401f-9454-f70bd191fb16"
      },
      "execution_count": 48,
      "outputs": [
        {
          "output_type": "stream",
          "name": "stdout",
          "text": [
            "[커피 자동주문 머신 메뉴]\n",
            "------------------------------\n",
            "-아메리카노는 2500원\n",
            "-카레라떼는 3000원\n",
            "-카푸치노는 3000원\n",
            "입니다. 원하시는 커피종류와 잔수를 입력하세요.\n",
            "------------------------------\n",
            "아메리카노 몇잔?2\n",
            "카페라떼 몇잔?2\n",
            "카푸치노 몇잔?1\n",
            "지불할 총 금액은 14000 원 입니다.\n",
            "돈을 넣어주세요~: 15000\n",
            "거스름돈은  1000 원 입니다\n"
          ]
        }
      ]
    },
    {
      "cell_type": "markdown",
      "metadata": {
        "id": "4RoolGBF8GGa"
      },
      "source": [
        "------"
      ]
    },
    {
      "cell_type": "markdown",
      "metadata": {
        "id": "G2T6Nybt8GGa"
      },
      "source": [
        "### **[반복문]**"
      ]
    },
    {
      "cell_type": "markdown",
      "metadata": {
        "id": "HuWJNA-T8GGa"
      },
      "source": [
        "### 실습문제 : 1~N까지 합계 구하기\n",
        "숫자를 입력받아 1~n까지의 합을 구할 때 짝수를 제외하고 합을 구하는 프로그램을 만들어 보세요."
      ]
    },
    {
      "cell_type": "code",
      "execution_count": 1,
      "metadata": {
        "id": "t4NbQOOe8GGa",
        "colab": {
          "base_uri": "https://localhost:8080/"
        },
        "outputId": "d2860421-1301-4807-98db-1976ad6abd6f"
      },
      "outputs": [
        {
          "output_type": "stream",
          "name": "stdout",
          "text": [
            "합계를 구할 숫자 입력:100\n",
            "1~100까지 짝수를 제외한 합은 : 2500\n"
          ]
        }
      ],
      "source": [
        "n = int(input('합계를 구할 숫자 입력:'))\n",
        "hap = 0\n",
        "for i in range(1, n+1, 1):\n",
        "  if i % 2 == 1:\n",
        "        hap += i\n",
        "print(f'1~100까지 짝수를 제외한 합은 : {hap}')\n",
        "\n",
        "\n"
      ]
    },
    {
      "cell_type": "markdown",
      "metadata": {
        "id": "p7P0Vy-XjIBz"
      },
      "source": [
        "### 실습문제 : 나무 열 번 찍어 넘기기"
      ]
    },
    {
      "cell_type": "code",
      "execution_count": null,
      "metadata": {
        "id": "A1OSHn1tjNE5"
      },
      "outputs": [],
      "source": [
        "treeHit = 0\n",
        "\n"
      ]
    },
    {
      "cell_type": "markdown",
      "metadata": {
        "id": "iPCnjI9UkoHr"
      },
      "source": [
        "### 실습문제 :  커피 자동주문 프로그램 업그레이드\n",
        "앞에서 만들어 본 커피 자동주문 머신 프로그램을 while문을 이용하여 돈을 모두 지불할 때까지 돈을 입력 받도록 프로그램 기능 수정하기"
      ]
    },
    {
      "cell_type": "code",
      "execution_count": null,
      "metadata": {
        "id": "HtKho6P3kxtS"
      },
      "outputs": [],
      "source": [
        "menu = '''[커피 자동주문 머신 메뉴]\n",
        "------------------------------\n",
        "-아메리카노는 2500원\n",
        "-카레라떼는 3000원\n",
        "-카푸치노는 3000원\n",
        "입니다. 원하시는 커피종류와 잔수를 입력하세요.\n",
        "------------------------------'''\n",
        "print(menu)\n",
        "coffee1 = int(input(\"아메리카노 몇잔?\"))\n",
        "coffee2 = int(input(\"카페라떼 몇잔?\"))\n",
        "coffee3 = int(input(\"카푸치노 몇잔?\"))\n",
        "\n"
      ]
    },
    {
      "cell_type": "markdown",
      "metadata": {
        "id": "bBpYo7he8GGc"
      },
      "source": [
        "### 실습문제 : 도둑잡기 게임 만들기\n",
        "경찰에 쫓기던 범인이 3개의 방 중에 한 곳에 숨어버렸습니다. 범인은 방문을 열 때마다 무작위로 3개의 방 중 하나의 방으로 이동합니다. 3개의 방 중 하나의 방을 선택했을 때 범인이 있다면 100점, 없을 때 -10점을 부여하고 범인을 잡으면 게임을 종료하는 프로그램을 만들어 보세요."
      ]
    },
    {
      "cell_type": "code",
      "execution_count": null,
      "metadata": {
        "id": "Yjs0Tp0m8GGc"
      },
      "outputs": [],
      "source": [
        "import random\n",
        "score = 0\n",
        "\n",
        "while True:  # 무한반복\n",
        "    # 1.무작위로 범인 방 배치\n",
        "\n",
        "\n",
        "\n",
        "    # 2.사용자로부터 방 번호 입력 받기\n",
        "    n = int(input('방 번호를 입력하세요(1,2,3): '))\n",
        "\n",
        "    # 3.사용자가 입력한 방 번호와 범인이 있는 방 비교\n",
        "    # 4.범인을 찾으면\n",
        "    # 범인 체포“라는 메시지 출력\n",
        "    # 점수 증가\n",
        "    # 무한반복 빠져 나가기\n",
        "\n",
        "    # 5.범인을 찾지 못하면\n",
        "    # “범인을 찾지 못했다“라는 메시지 출력\n",
        "    # 점수 감소\n",
        "\n",
        "# 게임 종료 메시지 출력\n",
        "# 최종 점수 출력"
      ]
    },
    {
      "cell_type": "markdown",
      "metadata": {
        "id": "FTX-Fvb28GGc"
      },
      "source": [
        "------"
      ]
    },
    {
      "cell_type": "markdown",
      "metadata": {
        "id": "8tdBEUuy8GGe"
      },
      "source": [
        "## 4.함수를 이용하여 알고리즘 만들기"
      ]
    },
    {
      "cell_type": "markdown",
      "metadata": {
        "id": "A50BCkk98GGe"
      },
      "source": [
        "### **[함수 & 모듈]**"
      ]
    },
    {
      "cell_type": "code",
      "execution_count": null,
      "metadata": {
        "id": "3gNw75bI8GGe"
      },
      "outputs": [],
      "source": [
        "def nSum(a, b):\n",
        "    c = a + b\n",
        "    return c\n",
        "\n",
        "nSum(50, 3)"
      ]
    },
    {
      "cell_type": "markdown",
      "metadata": {
        "id": "ZH2oJDOzmgta"
      },
      "source": [
        "####  함수의 구조\n",
        "매개변수와 리턴값에 따른 함수의 유형 예"
      ]
    },
    {
      "cell_type": "markdown",
      "metadata": {
        "id": "ZVu_uCmBmwX9"
      },
      "source": [
        "- 매개변수(X), 리턴값(X)"
      ]
    },
    {
      "cell_type": "code",
      "execution_count": null,
      "metadata": {
        "id": "PhoFdGdpmg2i"
      },
      "outputs": [],
      "source": [
        "def func():\n",
        "    print('안녕하세요!')\n",
        "\n",
        "print( func() )"
      ]
    },
    {
      "cell_type": "markdown",
      "metadata": {
        "id": "rYJvu1mKm1lA"
      },
      "source": [
        "- 매개변수(X), 리턴값(O)"
      ]
    },
    {
      "cell_type": "code",
      "execution_count": null,
      "metadata": {
        "id": "RtmltcdOm1sg"
      },
      "outputs": [],
      "source": [
        "def func():\n",
        "    print('안녕하세요!')\n",
        "    return '처리완료!'\n",
        "\n",
        "print( func() )"
      ]
    },
    {
      "cell_type": "markdown",
      "metadata": {
        "id": "kAiXc3qom1zq"
      },
      "source": [
        "- 매개변수(O), 리턴값(X)"
      ]
    },
    {
      "cell_type": "code",
      "execution_count": null,
      "metadata": {
        "id": "mdneVBp_m16L"
      },
      "outputs": [],
      "source": [
        "def func(a, b):\n",
        "    print('덧셈: %d + %d = %d' % (a, b, a+b))\n",
        "\n",
        "print( func(5, 7) )"
      ]
    },
    {
      "cell_type": "markdown",
      "metadata": {
        "id": "UWx5mc2Bm2Ah"
      },
      "source": [
        "- 매개변수(O), 리턴값(O)"
      ]
    },
    {
      "cell_type": "code",
      "execution_count": null,
      "metadata": {
        "id": "u40Eqnc1m2IB"
      },
      "outputs": [],
      "source": [
        "def func(a, b):\n",
        "    print('덧셈: %d + %d = %d' % (a, b, a+b))\n",
        "    return a+b\n",
        "\n",
        "print( func(5, 7) )"
      ]
    },
    {
      "cell_type": "markdown",
      "metadata": {
        "id": "Oq6XLdiqm9lV"
      },
      "source": [
        "### 실습문제 : 암스트롱수 판별 함수\n",
        "다음 조건을 참고하여 암스트롱수를 구하는 함수를 만들어 출력하는 프로그램을 만들어 보세요.\n",
        "- **암스트롱수** : 세 자리의 정수 중에서 각 자리의 수를 세 제곱한 수의 합과 자신이 같은 수"
      ]
    },
    {
      "cell_type": "code",
      "execution_count": null,
      "metadata": {
        "id": "DvFLshFqm9t8"
      },
      "outputs": [],
      "source": [
        "def is_armstringNumber(N):\n",
        "\n",
        "\n",
        "\n",
        "\n",
        "for i in range(100, 1000):\n",
        "    if is_armstringNumber(i):\n",
        "        print(\"[%i] is armstrong number\" % i)"
      ]
    },
    {
      "cell_type": "markdown",
      "metadata": {
        "id": "Kvzu_J_a8GGf"
      },
      "source": [
        "### 실습문제 : 환전 계산 함수\n",
        "아래 조건을 만족하는 환전계산 함수를 만들어 보세요."
      ]
    },
    {
      "cell_type": "code",
      "execution_count": null,
      "metadata": {
        "id": "x1jdgfzq8GGf",
        "scrolled": true
      },
      "outputs": [],
      "source": [
        "def moneyExchange(m, c):\n",
        "\n",
        "\n",
        "\n",
        "countrys = {'미국':['달러', 1182.5],\n",
        "            '중국':['위안', 169.22],\n",
        "            '유럽':['유로', 1286.74],\n",
        "            '일본':['엔', 1078.14]}\n",
        "money = int(input('환전 금액(원)을 입력하세요: '))\n",
        "country = input('국가를 입력하세요: ')\n",
        "print('-'*30)\n",
        "moneyExchange(money, country)"
      ]
    },
    {
      "cell_type": "markdown",
      "source": [
        "\n",
        "\n",
        "---\n",
        "\n"
      ],
      "metadata": {
        "id": "jcBxboxauPTJ"
      }
    },
    {
      "cell_type": "markdown",
      "metadata": {
        "id": "Ajjvg18_8GGg"
      },
      "source": [
        "### 5.ChatGPT와 페어프로그래밍하기"
      ]
    },
    {
      "cell_type": "markdown",
      "source": [
        "### 실습문제 : 영어 단어장 만들기\n",
        "아래 조건을 만족시키는 <영어단어장 만들기> 프로그램을 만들어 보세요.\n",
        "\n",
        "영단어는 key, 그의 뜻은 value 로 두는 dictionary 를 만드세요.<br>\n",
        "<메뉴>\n",
        " - 1. 단어 등록\n",
        " - 2. 단어 검색\n",
        " - 3. 단어 삭제\n",
        " - 4. 모든 단어 보기\n",
        " - 0. 종료하기\n",
        "\n",
        "1. 단어 등록 <br>\n",
        "    새 영단어와 그의 뜻을 입력 받고 dictionary 에 추가합니다.\n",
        "\n",
        "2. 단어 검색<br>\n",
        "    영단어를 입력 받아 그의 뜻을 출력합니다.<br>\n",
        "    미등록된 단어인 경우 '미등록 단어'를 출력합니다.\n",
        "    \n",
        "3. 단어 삭제<br>\n",
        "    영단어를 입력 받아 단어장에서 해당 단어를 삭제한다.<br>\n",
        "    미등록된 단어인 경우 '미등록 단어'를 출력합니다\n",
        "    \n",
        "4. 모든 단어 보기<br>\n",
        "    현재 등록되어 있는 모든 단어와 뜻을 출력합니다.\n",
        "\n",
        "0. 종료하기"
      ],
      "metadata": {
        "id": "LgP7QlUCtw9A"
      }
    },
    {
      "cell_type": "code",
      "source": [
        "menu = '''---선택메뉴--\n",
        "1. 단어 등록\n",
        "2. 단어 검색\n",
        "3. 단어 삭제\n",
        "4. 모든 단어 보기\n",
        "0. 종료하기\n",
        "------------------------------'''\n",
        "\n",
        "# 빈 딕셔너리를 만든다. (반복문 안에 넣지 않는다!)\n",
        "wordbook = {}\n",
        "\n",
        "def addBook():\n",
        "\n",
        "\n",
        "def searchBook():\n",
        "\n",
        "\n",
        "def deleteBook():\n",
        "\n",
        "\n",
        "def showAllBook():\n",
        "\n",
        "\n"
      ],
      "metadata": {
        "id": "eZLiY8m-txGd"
      },
      "execution_count": null,
      "outputs": []
    },
    {
      "cell_type": "markdown",
      "metadata": {
        "id": "SD7IuCtyEfxZ"
      },
      "source": [
        "\n",
        "\n",
        "---\n",
        "THE END\n",
        "\n"
      ]
    },
    {
      "cell_type": "markdown",
      "metadata": {
        "id": "RQoDVEJ38GGg"
      },
      "source": [
        "------"
      ]
    }
  ],
  "metadata": {
    "colab": {
      "provenance": [],
      "include_colab_link": true
    },
    "kernelspec": {
      "display_name": "Python 3 (ipykernel)",
      "language": "python",
      "name": "python3"
    },
    "language_info": {
      "codemirror_mode": {
        "name": "ipython",
        "version": 3
      },
      "file_extension": ".py",
      "mimetype": "text/x-python",
      "name": "python",
      "nbconvert_exporter": "python",
      "pygments_lexer": "ipython3",
      "version": "3.10.9"
    }
  },
  "nbformat": 4,
  "nbformat_minor": 0
}